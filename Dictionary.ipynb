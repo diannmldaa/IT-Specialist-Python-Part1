{
 "cells": [
  {
   "cell_type": "markdown",
   "id": "f4386d12",
   "metadata": {},
   "source": [
    "### Dictionary\n",
    "\n",
    "Dictionary pada Python adalah kumpulan pasangan kunci-nilai (pair of key-value) yang bersifat tidak berurutan. Dictionary dapat digunakan unutk menyimpan data kecil hingga besar. Untuk mengakses datanya, kita harus mengetahui kuncinys (key). Pada Python, dictionary didenifisikan dengan kurawal dantambahan definisi berikut:\n",
    "\n",
    "- Setiap elemen pair of key-value dipisahkan dengan koma (,)\n",
    "- Key dan value dipisahkan dengan tiitk dua (:)\n",
    "- Key dan value dapat berupa tipe variabel/obyek apapun"
   ]
  },
  {
   "cell_type": "code",
   "execution_count": 1,
   "id": "e88da0c7",
   "metadata": {},
   "outputs": [],
   "source": [
    "a = {'nama': 'Nam Do San', 'usia': 25}"
   ]
  },
  {
   "cell_type": "code",
   "execution_count": 2,
   "id": "ecd2b5c4",
   "metadata": {},
   "outputs": [
    {
     "data": {
      "text/plain": [
       "dict"
      ]
     },
     "execution_count": 2,
     "metadata": {},
     "output_type": "execute_result"
    }
   ],
   "source": [
    "type(a)"
   ]
  },
  {
   "cell_type": "code",
   "execution_count": 3,
   "id": "f0907fdf",
   "metadata": {},
   "outputs": [
    {
     "data": {
      "text/plain": [
       "'Nam Do San'"
      ]
     },
     "execution_count": 3,
     "metadata": {},
     "output_type": "execute_result"
    }
   ],
   "source": [
    "a['nama']"
   ]
  },
  {
   "cell_type": "code",
   "execution_count": 4,
   "id": "75170318",
   "metadata": {},
   "outputs": [
    {
     "data": {
      "text/plain": [
       "'usia'"
      ]
     },
     "execution_count": 4,
     "metadata": {},
     "output_type": "execute_result"
    }
   ],
   "source": [
    "'usia'"
   ]
  },
  {
   "cell_type": "markdown",
   "id": "a462626a",
   "metadata": {},
   "source": [
    "Dictionary bukan termasuk dalam implementasi urutan (sequences), sehingga tidak bisa dipanggil dengan urutan index. Misalnya dalam contoh berikutdicoba dengan index x0, tetapi menghasilkan error (KeyError) karena tidak ada kunci (key) 0."
   ]
  },
  {
   "cell_type": "code",
   "execution_count": 5,
   "id": "9adabfcb",
   "metadata": {},
   "outputs": [
    {
     "ename": "KeyError",
     "evalue": "0",
     "output_type": "error",
     "traceback": [
      "\u001b[1;31m---------------------------------------------------------------------------\u001b[0m",
      "\u001b[1;31mKeyError\u001b[0m                                  Traceback (most recent call last)",
      "\u001b[1;32m<ipython-input-5-6a1284577a36>\u001b[0m in \u001b[0;36m<module>\u001b[1;34m\u001b[0m\n\u001b[1;32m----> 1\u001b[1;33m \u001b[0ma\u001b[0m\u001b[1;33m[\u001b[0m\u001b[1;36m0\u001b[0m\u001b[1;33m]\u001b[0m\u001b[1;33m\u001b[0m\u001b[1;33m\u001b[0m\u001b[0m\n\u001b[0m",
      "\u001b[1;31mKeyError\u001b[0m: 0"
     ]
    }
   ],
   "source": [
    "a[0]"
   ]
  },
  {
   "cell_type": "markdown",
   "id": "81809939",
   "metadata": {},
   "source": [
    "Task"
   ]
  },
  {
   "cell_type": "code",
   "execution_count": 8,
   "id": "587b478a",
   "metadata": {},
   "outputs": [],
   "source": [
    "#nested dictionary\n",
    "\n",
    "people = {1: {'nama': 'Dian', 'umur': '19'},\n",
    "          2: {'nama': 'Taris', 'umur': '20'},\n",
    "          3: {'nama': 'Ayu', 'umur': 21}}"
   ]
  },
  {
   "cell_type": "code",
   "execution_count": 9,
   "id": "34c278b1",
   "metadata": {},
   "outputs": [
    {
     "name": "stdout",
     "output_type": "stream",
     "text": [
      "{1: {'nama': 'Dian', 'umur': '19'}, 2: {'nama': 'Taris', 'umur': '20'}, 3: {'nama': 'Ayu', 'umur': 21}}\n"
     ]
    }
   ],
   "source": [
    "#panggil dict\n",
    "\n",
    "print(people)"
   ]
  },
  {
   "cell_type": "code",
   "execution_count": 10,
   "id": "e4beddd7",
   "metadata": {},
   "outputs": [
    {
     "data": {
      "text/plain": [
       "{'nama': 'Dian', 'umur': '19'}"
      ]
     },
     "execution_count": 10,
     "metadata": {},
     "output_type": "execute_result"
    }
   ],
   "source": [
    "#panggil key\n",
    "\n",
    "people[1]"
   ]
  },
  {
   "cell_type": "code",
   "execution_count": 16,
   "id": "7966d2e1",
   "metadata": {},
   "outputs": [
    {
     "data": {
      "text/plain": [
       "'Taris'"
      ]
     },
     "execution_count": 16,
     "metadata": {},
     "output_type": "execute_result"
    }
   ],
   "source": [
    "people[2]['nama']"
   ]
  },
  {
   "cell_type": "code",
   "execution_count": null,
   "id": "66e7e3ea",
   "metadata": {},
   "outputs": [],
   "source": []
  }
 ],
 "metadata": {
  "kernelspec": {
   "display_name": "Python 3",
   "language": "python",
   "name": "python3"
  },
  "language_info": {
   "codemirror_mode": {
    "name": "ipython",
    "version": 3
   },
   "file_extension": ".py",
   "mimetype": "text/x-python",
   "name": "python",
   "nbconvert_exporter": "python",
   "pygments_lexer": "ipython3",
   "version": "3.8.8"
  }
 },
 "nbformat": 4,
 "nbformat_minor": 5
}
