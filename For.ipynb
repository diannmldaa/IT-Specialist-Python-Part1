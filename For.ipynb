{
 "cells": [
  {
   "cell_type": "markdown",
   "id": "cea3b0a6",
   "metadata": {},
   "source": [
    "### FOR\n",
    "\n",
    "- for adalah fungsi yang dapat melakukan perulangan pada setiap jenis variabel berupa kumpulan atau unutan\n",
    "\n",
    "- Variabel yang dimaksud bisa berupa list, string, ataupun range\n",
    "\n",
    "- Jika sebuah list atau urutan berisi expression, maka la akan dievaluasi terlebih dahulu\n",
    "\n",
    "- Kemudian item pertama pada urutan/list akan diassign sebagai variabel iterating_var\n",
    "\n",
    "- Setelahnya, biok statement akan dieksekusi, berlanjut ke item berikutnya, berulang, hingga seluruh urutan habis"
   ]
  },
  {
   "cell_type": "code",
   "execution_count": 4,
   "id": "0200b8b9",
   "metadata": {},
   "outputs": [
    {
     "name": "stdout",
     "output_type": "stream",
     "text": [
      "huruf d\n",
      "huruf a\n",
      "huruf t\n",
      "huruf a\n"
     ]
    }
   ],
   "source": [
    "for i in 'data':\n",
    "    print('huruf {}'.format(i))"
   ]
  },
  {
   "cell_type": "code",
   "execution_count": 5,
   "id": "bc6c1ca8",
   "metadata": {},
   "outputs": [
    {
     "name": "stdout",
     "output_type": "stream",
     "text": [
      "warna merah\n",
      "warna kuning\n",
      "warna hijau\n"
     ]
    }
   ],
   "source": [
    "color = ['merah', 'kuning', 'hijau']\n",
    "\n",
    "for i in color:\n",
    "    print('warna {}'.format(i))"
   ]
  },
  {
   "cell_type": "code",
   "execution_count": 6,
   "id": "80db0800",
   "metadata": {},
   "outputs": [
    {
     "name": "stdout",
     "output_type": "stream",
     "text": [
      "0\n",
      "1\n",
      "2\n"
     ]
    }
   ],
   "source": [
    "for i in range(3):\n",
    "    print(i)"
   ]
  },
  {
   "cell_type": "code",
   "execution_count": 7,
   "id": "ebc9fd01",
   "metadata": {},
   "outputs": [
    {
     "name": "stdout",
     "output_type": "stream",
     "text": [
      "1\n",
      "2\n",
      "3\n"
     ]
    }
   ],
   "source": [
    "for i in range (1,4):\n",
    "    print(i)"
   ]
  },
  {
   "cell_type": "markdown",
   "id": "040b9262",
   "metadata": {},
   "source": [
    "Task"
   ]
  },
  {
   "cell_type": "code",
   "execution_count": 8,
   "id": "1f9d9d8f",
   "metadata": {},
   "outputs": [
    {
     "name": "stdout",
     "output_type": "stream",
     "text": [
      "Huruf: m\n",
      "Huruf: a\n",
      "Huruf: k\n",
      "Huruf: a\n",
      "Huruf: n\n"
     ]
    }
   ],
   "source": [
    "# for string (format)\n",
    "\n",
    "kata = 'makan'\n",
    "for i in kata:\n",
    "    print('Huruf: {}'.format(i))"
   ]
  },
  {
   "cell_type": "code",
   "execution_count": 9,
   "id": "35ce1b8d",
   "metadata": {},
   "outputs": [
    {
     "name": "stdout",
     "output_type": "stream",
     "text": [
      "Angka: 1\n",
      "Angka: 2\n",
      "Angka: 3\n"
     ]
    }
   ],
   "source": [
    "# for list (koma)\n",
    "\n",
    "num = [1,2,3]\n",
    "for i in num:\n",
    "    print('Angka:', i)"
   ]
  },
  {
   "cell_type": "code",
   "execution_count": 10,
   "id": "8ce5689f",
   "metadata": {},
   "outputs": [
    {
     "name": "stdout",
     "output_type": "stream",
     "text": [
      "0\n",
      "1\n"
     ]
    }
   ],
   "source": [
    "# for range (1p)\n",
    "\n",
    "for i in range(2):\n",
    "    print(i)"
   ]
  },
  {
   "cell_type": "code",
   "execution_count": 11,
   "id": "c02890a5",
   "metadata": {},
   "outputs": [
    {
     "name": "stdout",
     "output_type": "stream",
     "text": [
      "2\n",
      "3\n",
      "4\n"
     ]
    }
   ],
   "source": [
    "# for range (2p)\n",
    "\n",
    "for i in range(2,5):\n",
    "    print(i)"
   ]
  },
  {
   "cell_type": "code",
   "execution_count": 12,
   "id": "cbc61dc5",
   "metadata": {},
   "outputs": [
    {
     "name": "stdout",
     "output_type": "stream",
     "text": [
      "2\n",
      "5\n",
      "8\n"
     ]
    }
   ],
   "source": [
    "# for range (3p)\n",
    "\n",
    "for i in range(2,10,3):\n",
    "    print(i)"
   ]
  },
  {
   "cell_type": "markdown",
   "id": "f69fb4ad",
   "metadata": {},
   "source": [
    "#### FOR Bertingkat\n"
   ]
  },
  {
   "cell_type": "code",
   "execution_count": 25,
   "id": "067559e5",
   "metadata": {},
   "outputs": [
    {
     "name": "stdout",
     "output_type": "stream",
     "text": [
      "* * * \n",
      "* * \n",
      "* \n"
     ]
    }
   ],
   "source": [
    "for row in range(3):\n",
    "    for col in range(3):\n",
    "        if row == 0 and col <= 2:\n",
    "            print('*', end = ' ')\n",
    "        elif row == 1 and col <= 1:\n",
    "            print('*', end = ' ')\n",
    "        elif row == 2 and col <= 0:\n",
    "            print('*', end = ' ')\n",
    "    print()"
   ]
  },
  {
   "cell_type": "markdown",
   "id": "5fb142ef",
   "metadata": {},
   "source": [
    "Task"
   ]
  },
  {
   "cell_type": "code",
   "execution_count": 13,
   "id": "3c00d097",
   "metadata": {},
   "outputs": [
    {
     "name": "stdout",
     "output_type": "stream",
     "text": [
      "* * * * \n",
      "* * * \n",
      "* * \n",
      "* \n"
     ]
    }
   ],
   "source": [
    "for row in range(4):\n",
    "    for col in range(4):\n",
    "        if row == 0 and col <= 3:\n",
    "            print('*', end = ' ')\n",
    "        elif row == 1 and col <= 2:\n",
    "            print('*', end = ' ')\n",
    "        elif row == 2 and col <= 1:\n",
    "            print('*', end = ' ')\n",
    "        elif row == 3 and col <= 0:\n",
    "            print('*', end = ' ')\n",
    "    print()"
   ]
  },
  {
   "cell_type": "markdown",
   "id": "49943dc2",
   "metadata": {},
   "source": [
    "#### ELSE setelah FOR\n",
    "\n",
    "Fungsi else setelah for adalah fungsinya diutamakan pada perulangan yang bersifat pencarian - untuk memberikan jalan keluar program saat pencarian tidak ditemukan."
   ]
  },
  {
   "cell_type": "code",
   "execution_count": null,
   "id": "db92d764",
   "metadata": {},
   "outputs": [],
   "source": []
  }
 ],
 "metadata": {
  "kernelspec": {
   "display_name": "Python 3",
   "language": "python",
   "name": "python3"
  },
  "language_info": {
   "codemirror_mode": {
    "name": "ipython",
    "version": 3
   },
   "file_extension": ".py",
   "mimetype": "text/x-python",
   "name": "python",
   "nbconvert_exporter": "python",
   "pygments_lexer": "ipython3",
   "version": "3.8.8"
  }
 },
 "nbformat": 4,
 "nbformat_minor": 5
}
