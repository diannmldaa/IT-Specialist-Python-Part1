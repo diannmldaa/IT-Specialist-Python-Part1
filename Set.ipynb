{
 "cells": [
  {
   "cell_type": "markdown",
   "id": "7ef788f1",
   "metadata": {},
   "source": [
    "### Set\n",
    "\n",
    "Set adalah kumpulan item bersifat unik dan tanpa urutan (unordered collection). Didefinisikan dengan kurawal dan elemennya dipisahkan dengan koma. Pada set kita dapat melakukan union dan intersection, sekaligus otomatis melakukan penghapusan data duplikat."
   ]
  },
  {
   "cell_type": "code",
   "execution_count": 1,
   "id": "45115aed",
   "metadata": {},
   "outputs": [],
   "source": [
    "a = {3,3,3,4,4,4,4,5,5,5,5,5}"
   ]
  },
  {
   "cell_type": "code",
   "execution_count": 2,
   "id": "f4e08648",
   "metadata": {},
   "outputs": [
    {
     "name": "stdout",
     "output_type": "stream",
     "text": [
      "{3, 4, 5}\n"
     ]
    }
   ],
   "source": [
    "print(a)"
   ]
  },
  {
   "cell_type": "markdown",
   "id": "0ed4d4c5",
   "metadata": {},
   "source": [
    "Karena set bersifat unordered, maka kita tidak bisa memanggil sebagian data/elemen datanya menggunakan proses slicing"
   ]
  },
  {
   "cell_type": "code",
   "execution_count": 3,
   "id": "47a52ab3",
   "metadata": {},
   "outputs": [
    {
     "ename": "TypeError",
     "evalue": "'set' object is not subscriptable",
     "output_type": "error",
     "traceback": [
      "\u001b[1;31m---------------------------------------------------------------------------\u001b[0m",
      "\u001b[1;31mTypeError\u001b[0m                                 Traceback (most recent call last)",
      "\u001b[1;32m<ipython-input-3-bb6a8a2f4689>\u001b[0m in \u001b[0;36m<module>\u001b[1;34m\u001b[0m\n\u001b[1;32m----> 1\u001b[1;33m \u001b[0mprint\u001b[0m\u001b[1;33m(\u001b[0m\u001b[0ma\u001b[0m\u001b[1;33m[\u001b[0m\u001b[1;36m1\u001b[0m\u001b[1;33m]\u001b[0m\u001b[1;33m)\u001b[0m\u001b[1;33m\u001b[0m\u001b[1;33m\u001b[0m\u001b[0m\n\u001b[0m",
      "\u001b[1;31mTypeError\u001b[0m: 'set' object is not subscriptable"
     ]
    }
   ],
   "source": [
    "print(a[1])"
   ]
  },
  {
   "cell_type": "code",
   "execution_count": 4,
   "id": "693603d3",
   "metadata": {},
   "outputs": [
    {
     "name": "stdout",
     "output_type": "stream",
     "text": [
      "{3, 12, 7}\n"
     ]
    }
   ],
   "source": [
    "b = {7,3,12}\n",
    "print(b)"
   ]
  },
  {
   "cell_type": "markdown",
   "id": "25b1ee16",
   "metadata": {},
   "source": [
    "Task"
   ]
  },
  {
   "cell_type": "code",
   "execution_count": 6,
   "id": "e2cf4874",
   "metadata": {},
   "outputs": [
    {
     "data": {
      "text/plain": [
       "{1, 2, 3, 4, 5, 6, 7, 8}"
      ]
     },
     "execution_count": 6,
     "metadata": {},
     "output_type": "execute_result"
    }
   ],
   "source": [
    "x = {1,2,3,4,5}\n",
    "y = {4,5,6,7,8}\n",
    "\n",
    "x.union(y)"
   ]
  },
  {
   "cell_type": "code",
   "execution_count": 7,
   "id": "90ec22f0",
   "metadata": {},
   "outputs": [
    {
     "data": {
      "text/plain": [
       "{4, 5}"
      ]
     },
     "execution_count": 7,
     "metadata": {},
     "output_type": "execute_result"
    }
   ],
   "source": [
    "x.intersection(y)"
   ]
  },
  {
   "cell_type": "code",
   "execution_count": null,
   "id": "16de370d",
   "metadata": {},
   "outputs": [],
   "source": []
  }
 ],
 "metadata": {
  "kernelspec": {
   "display_name": "Python 3",
   "language": "python",
   "name": "python3"
  },
  "language_info": {
   "codemirror_mode": {
    "name": "ipython",
    "version": 3
   },
   "file_extension": ".py",
   "mimetype": "text/x-python",
   "name": "python",
   "nbconvert_exporter": "python",
   "pygments_lexer": "ipython3",
   "version": "3.8.8"
  }
 },
 "nbformat": 4,
 "nbformat_minor": 5
}
