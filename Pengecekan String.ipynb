{
 "cells": [
  {
   "cell_type": "markdown",
   "id": "38a246de",
   "metadata": {},
   "source": [
    "#### Pengecekan String\n",
    "\n",
    "Dalam kategori pengecekan string kita akan mengecek boolean darisebuah string"
   ]
  },
  {
   "cell_type": "markdown",
   "id": "b125360e",
   "metadata": {},
   "source": [
    "#### Isupper()\n",
    "\n",
    "Metode isupper() akan menggunakan nilai True jika semua huruf dalam string adalah huruf besar, dan akan mengembalikan nilai False jika terdapat satu saja huruf kecil di dalam string tersebut."
   ]
  },
  {
   "cell_type": "code",
   "execution_count": 2,
   "id": "c8084b07",
   "metadata": {},
   "outputs": [
    {
     "data": {
      "text/plain": [
       "True"
      ]
     },
     "execution_count": 2,
     "metadata": {},
     "output_type": "execute_result"
    }
   ],
   "source": [
    "a = 'DATA SCIENCE'\n",
    "a.isupper()"
   ]
  },
  {
   "cell_type": "code",
   "execution_count": 3,
   "id": "316af73d",
   "metadata": {},
   "outputs": [
    {
     "data": {
      "text/plain": [
       "False"
      ]
     },
     "execution_count": 3,
     "metadata": {},
     "output_type": "execute_result"
    }
   ],
   "source": [
    "a = 'Data Science'\n",
    "a.isupper()"
   ]
  },
  {
   "cell_type": "markdown",
   "id": "b5afd5a5",
   "metadata": {},
   "source": [
    "#### Islower()\n",
    "\n",
    "Metode islower() akan menggunakan nilai True jika semua huruf dalam string adalah huruf kecil, dan akan mengembalikan nilai False jika terdapat satu saja huruf besar di dalam string tersebut."
   ]
  },
  {
   "cell_type": "code",
   "execution_count": 4,
   "id": "bb65ab4e",
   "metadata": {},
   "outputs": [
    {
     "data": {
      "text/plain": [
       "True"
      ]
     },
     "execution_count": 4,
     "metadata": {},
     "output_type": "execute_result"
    }
   ],
   "source": [
    "a = 'data science'\n",
    "a.islower()"
   ]
  },
  {
   "cell_type": "code",
   "execution_count": 5,
   "id": "8222ff03",
   "metadata": {},
   "outputs": [
    {
     "data": {
      "text/plain": [
       "False"
      ]
     },
     "execution_count": 5,
     "metadata": {},
     "output_type": "execute_result"
    }
   ],
   "source": [
    "a = 'Data Science'\n",
    "a.islower()"
   ]
  },
  {
   "cell_type": "markdown",
   "id": "73d81a75",
   "metadata": {},
   "source": [
    "Kita bisa melakukan operasi pada hasil operasinya (chain of method)"
   ]
  },
  {
   "cell_type": "code",
   "execution_count": 6,
   "id": "e5b6a0c7",
   "metadata": {},
   "outputs": [
    {
     "name": "stdout",
     "output_type": "stream",
     "text": [
      "data\n"
     ]
    }
   ],
   "source": [
    "print('Data' .upper().lower())"
   ]
  },
  {
   "cell_type": "code",
   "execution_count": 7,
   "id": "f3dec5b1",
   "metadata": {},
   "outputs": [
    {
     "name": "stdout",
     "output_type": "stream",
     "text": [
      "DATA\n"
     ]
    }
   ],
   "source": [
    "print('Data' .lower().upper())"
   ]
  },
  {
   "cell_type": "code",
   "execution_count": 8,
   "id": "c7827b25",
   "metadata": {},
   "outputs": [
    {
     "name": "stdout",
     "output_type": "stream",
     "text": [
      "True\n"
     ]
    }
   ],
   "source": [
    "print('DATA'.upper().lower().islower())"
   ]
  },
  {
   "cell_type": "code",
   "execution_count": 10,
   "id": "9011914e",
   "metadata": {},
   "outputs": [
    {
     "name": "stdout",
     "output_type": "stream",
     "text": [
      "False\n"
     ]
    }
   ],
   "source": [
    "print('DATA'.upper().lower().isupper())"
   ]
  },
  {
   "cell_type": "markdown",
   "id": "e78e3722",
   "metadata": {},
   "source": [
    "Task"
   ]
  },
  {
   "cell_type": "code",
   "execution_count": 11,
   "id": "6e39003a",
   "metadata": {},
   "outputs": [
    {
     "name": "stdout",
     "output_type": "stream",
     "text": [
      "dian\n",
      "DIAN\n",
      "False\n",
      "True\n"
     ]
    }
   ],
   "source": [
    "print('Dian'.upper().lower())\n",
    "print('Dian'.lower().upper())\n",
    "print('dain'.upper().lower().isupper())\n",
    "print('DIAN'.lower().upper().isupper())"
   ]
  },
  {
   "cell_type": "markdown",
   "id": "d0437210",
   "metadata": {},
   "source": [
    "#### Isalpha()\n",
    "\n",
    "Metode ini akan mengembalikan nilai True jika semua karakter dalam string adalah huruf alfabet, jika tidak maka akan mengembalikan nilai False."
   ]
  },
  {
   "cell_type": "code",
   "execution_count": 1,
   "id": "8ff8b637",
   "metadata": {},
   "outputs": [
    {
     "name": "stdout",
     "output_type": "stream",
     "text": [
      "True\n"
     ]
    }
   ],
   "source": [
    "print('Data'.isalpha())"
   ]
  },
  {
   "cell_type": "markdown",
   "id": "be591d20",
   "metadata": {},
   "source": [
    "#### Isalnum()\n",
    "\n",
    "Metode ini akan mengembalikan nilai True jika karakter dalam string adalah alfanumerik, yaitu hanya huruf atau hanya angka atau berisi keduanya, jika tidak maka akan mengembalikan nilai False."
   ]
  },
  {
   "cell_type": "code",
   "execution_count": 3,
   "id": "142eef88",
   "metadata": {},
   "outputs": [
    {
     "name": "stdout",
     "output_type": "stream",
     "text": [
      "True\n"
     ]
    }
   ],
   "source": [
    "print('Data2022'.isalnum())"
   ]
  },
  {
   "cell_type": "markdown",
   "id": "4c2a2f3b",
   "metadata": {},
   "source": [
    "#### Isdecimal()\n",
    "\n",
    "Metode ini akan mengembalikan nilai True jika karakter dalam string berisi hanya angka/numerik, jika tidak maka akan mengembalikan nilai False."
   ]
  },
  {
   "cell_type": "code",
   "execution_count": 4,
   "id": "255b4364",
   "metadata": {},
   "outputs": [
    {
     "name": "stdout",
     "output_type": "stream",
     "text": [
      "True\n"
     ]
    }
   ],
   "source": [
    "print('2022'.isdecimal())"
   ]
  },
  {
   "cell_type": "markdown",
   "id": "d193a225",
   "metadata": {},
   "source": [
    "#### Isspace()\n",
    "\n",
    "Metode ini akan mengembalikan nilai True jika karakter dalam string berisi hanya karakter whitespace, seperti spasi, tab, newline, atau karakter whitespace lainnya, jika tidak maka akan mengembalikan nilai False."
   ]
  },
  {
   "cell_type": "code",
   "execution_count": 5,
   "id": "75e62814",
   "metadata": {},
   "outputs": [
    {
     "name": "stdout",
     "output_type": "stream",
     "text": [
      "True\n"
     ]
    }
   ],
   "source": [
    "print(' '.isspace())"
   ]
  },
  {
   "cell_type": "markdown",
   "id": "5a5e3f80",
   "metadata": {},
   "source": [
    "#### Istitle()\n",
    "\n",
    "Metode ini akan mengembalikan nilai True jika karakter dalam string berisi huruf kapital di setiap kata dan dilanjutkan dengan hurufkeci seterusnya, jika tidak maka akan mengembalikan nilai False."
   ]
  },
  {
   "cell_type": "code",
   "execution_count": 8,
   "id": "760559ea",
   "metadata": {},
   "outputs": [
    {
     "name": "stdout",
     "output_type": "stream",
     "text": [
      "True\n"
     ]
    }
   ],
   "source": [
    "print('Data Dan Fakta'.istitle())"
   ]
  },
  {
   "cell_type": "code",
   "execution_count": 6,
   "id": "2b13d6f4",
   "metadata": {},
   "outputs": [
    {
     "name": "stdout",
     "output_type": "stream",
     "text": [
      "False\n"
     ]
    }
   ],
   "source": [
    "print('data dan fakta'.istitle())"
   ]
  },
  {
   "cell_type": "markdown",
   "id": "ee256728",
   "metadata": {},
   "source": [
    "Catatan:\n",
    "semua method di atas mengembalikan nilai boolean dan boleh kosong."
   ]
  },
  {
   "cell_type": "markdown",
   "id": "fbd9b941",
   "metadata": {},
   "source": [
    "#### Latihan"
   ]
  },
  {
   "cell_type": "code",
   "execution_count": 12,
   "id": "f5e8dd3a",
   "metadata": {},
   "outputs": [
    {
     "name": "stdout",
     "output_type": "stream",
     "text": [
      "Masukkan nama Anda:\n",
      "Dian Maulida\n",
      "Masukkan nama Anda dengan benar.\n",
      "Masukkan nama Anda:\n",
      "Dian\n",
      "Halo Dian\n"
     ]
    }
   ],
   "source": [
    "while True:\n",
    "    print('Masukkan nama Anda:')\n",
    "    name = input()\n",
    "    if name.isalnum():\n",
    "        print('Halo', name)\n",
    "        break\n",
    "    print('Masukkan nama Anda dengan benar.')"
   ]
  },
  {
   "cell_type": "markdown",
   "id": "349eff5e",
   "metadata": {},
   "source": [
    "#### Task"
   ]
  },
  {
   "cell_type": "code",
   "execution_count": 4,
   "id": "83c70394",
   "metadata": {},
   "outputs": [
    {
     "name": "stdout",
     "output_type": "stream",
     "text": [
      "Masukkan nama orang tua Anda:\n",
      "Muh\n",
      "Nama orang tua Anda adalah Muh\n"
     ]
    }
   ],
   "source": [
    "# isalpha\n",
    "\n",
    "while True:\n",
    "    print('Masukkan nama orang tua Anda:')\n",
    "    nama_ot = input()\n",
    "    if nama_ot.isalpha():\n",
    "        print('Nama orang tua Anda adalah', nama_ot)\n",
    "        break\n",
    "    print('Masukkan nama orang tua Anda dengan benar.')"
   ]
  },
  {
   "cell_type": "code",
   "execution_count": 6,
   "id": "5595db8b",
   "metadata": {},
   "outputs": [
    {
     "name": "stdout",
     "output_type": "stream",
     "text": [
      "Masukkan password Anda:\n",
      "Bebek123\n",
      "Password anda adalah Bebek123\n"
     ]
    }
   ],
   "source": [
    "# isalnum\n",
    "\n",
    "while True:\n",
    "    print('Masukkan password Anda:')\n",
    "    pw = input()\n",
    "    if pw.isalnum():\n",
    "        print('Password anda adalah', pw)\n",
    "        break\n",
    "    print('Masukkan password Anda dengan benar.')"
   ]
  },
  {
   "cell_type": "code",
   "execution_count": 7,
   "id": "499eddc7",
   "metadata": {},
   "outputs": [
    {
     "name": "stdout",
     "output_type": "stream",
     "text": [
      "Masukkan usia Anda:\n",
      "Data\n",
      "Masukkan usia Anda dengan benar.\n",
      "Masukkan usia Anda:\n",
      "20\n",
      "Usia anda adalah 20\n"
     ]
    }
   ],
   "source": [
    "# isdecimal\n",
    "\n",
    "while True:\n",
    "    print('Masukkan usia Anda:')\n",
    "    usia = input()\n",
    "    if usia.isdecimal():\n",
    "        print('Usia anda adalah', usia)\n",
    "        break\n",
    "    print('Masukkan usia Anda dengan benar.')"
   ]
  },
  {
   "cell_type": "code",
   "execution_count": 8,
   "id": "64ec3ca2",
   "metadata": {},
   "outputs": [
    {
     "name": "stdout",
     "output_type": "stream",
     "text": [
      "Masukkan whitespace:\n",
      "A\n",
      "Masukkan whitespace dengan benar.\n",
      "Masukkan whitespace:\n",
      " \n",
      "Whitespace Anda  \n"
     ]
    }
   ],
   "source": [
    "# isspace\n",
    "\n",
    "while True:\n",
    "    print('Masukkan whitespace:')\n",
    "    ws = input()\n",
    "    if ws.isspace():\n",
    "        print('Whitespace Anda', ws)\n",
    "        break\n",
    "    print('Masukkan whitespace dengan benar.')"
   ]
  },
  {
   "cell_type": "code",
   "execution_count": 9,
   "id": "d382d1b8",
   "metadata": {},
   "outputs": [
    {
     "name": "stdout",
     "output_type": "stream",
     "text": [
      "Masukkan judul buku yang Anda pinjam:\n",
      "Kumpulan Puisi dan Cerpen\n",
      "Masukkan judul buku dengan benar.\n",
      "Masukkan judul buku yang Anda pinjam:\n",
      "Kumpulan Puisi Dan Cerpen\n",
      "Judul buku yang Anda pinjam adalah Kumpulan Puisi Dan Cerpen\n"
     ]
    }
   ],
   "source": [
    "# istitle\n",
    "\n",
    "while True:\n",
    "    print('Masukkan judul buku yang Anda pinjam:')\n",
    "    book = input()\n",
    "    if book.istitle():\n",
    "        print('Judul buku yang Anda pinjam adalah', book)\n",
    "        break\n",
    "    print('Masukkan judul buku dengan benar.')"
   ]
  },
  {
   "cell_type": "code",
   "execution_count": null,
   "id": "d91b5616",
   "metadata": {},
   "outputs": [],
   "source": []
  },
  {
   "cell_type": "code",
   "execution_count": null,
   "id": "732e29e6",
   "metadata": {},
   "outputs": [],
   "source": []
  }
 ],
 "metadata": {
  "kernelspec": {
   "display_name": "Python 3",
   "language": "python",
   "name": "python3"
  },
  "language_info": {
   "codemirror_mode": {
    "name": "ipython",
    "version": 3
   },
   "file_extension": ".py",
   "mimetype": "text/x-python",
   "name": "python",
   "nbconvert_exporter": "python",
   "pygments_lexer": "ipython3",
   "version": "3.8.8"
  }
 },
 "nbformat": 4,
 "nbformat_minor": 5
}
