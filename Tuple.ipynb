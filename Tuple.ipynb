{
 "cells": [
  {
   "cell_type": "markdown",
   "id": "186470b1",
   "metadata": {},
   "source": [
    "### Tuple\n",
    "\n",
    "Tuple adalah jenis dari list yang tidak dapat diubah elemennya. Umumnya tuple digunakan untuk data yang bersifat sekali tulis, dan dapat dieksekusi lebih cepat. Tuple didefinisikan dengan kurung dan elemen dipisahkan dengan koma"
   ]
  },
  {
   "cell_type": "code",
   "execution_count": 1,
   "id": "3270454c",
   "metadata": {},
   "outputs": [],
   "source": [
    "a = (2, 'buku', 3.5)"
   ]
  },
  {
   "cell_type": "markdown",
   "id": "e37c740e",
   "metadata": {},
   "source": [
    "Seperti list, kita dapat melakukan slicing, namun pada tuple kita tidak dapat melakukan perubahan"
   ]
  },
  {
   "cell_type": "code",
   "execution_count": 2,
   "id": "8b73f4c7",
   "metadata": {},
   "outputs": [
    {
     "name": "stdout",
     "output_type": "stream",
     "text": [
      "buku\n"
     ]
    }
   ],
   "source": [
    "print(a[1])"
   ]
  },
  {
   "cell_type": "code",
   "execution_count": 3,
   "id": "804242b0",
   "metadata": {},
   "outputs": [
    {
     "name": "stdout",
     "output_type": "stream",
     "text": [
      "(2, 'buku')\n"
     ]
    }
   ],
   "source": [
    "print(a[0:2])"
   ]
  },
  {
   "cell_type": "code",
   "execution_count": 4,
   "id": "e43fbc59",
   "metadata": {},
   "outputs": [
    {
     "ename": "SyntaxError",
     "evalue": "expression cannot contain assignment, perhaps you meant \"==\"? (<ipython-input-4-65b981264778>, line 1)",
     "output_type": "error",
     "traceback": [
      "\u001b[1;36m  File \u001b[1;32m\"<ipython-input-4-65b981264778>\"\u001b[1;36m, line \u001b[1;32m1\u001b[0m\n\u001b[1;33m    print(a[0]=10)\u001b[0m\n\u001b[1;37m          ^\u001b[0m\n\u001b[1;31mSyntaxError\u001b[0m\u001b[1;31m:\u001b[0m expression cannot contain assignment, perhaps you meant \"==\"?\n"
     ]
    }
   ],
   "source": [
    "print(a[0]=10)"
   ]
  },
  {
   "cell_type": "markdown",
   "id": "41def5d8",
   "metadata": {},
   "source": [
    "Task"
   ]
  },
  {
   "cell_type": "code",
   "execution_count": 5,
   "id": "80a93da4",
   "metadata": {},
   "outputs": [
    {
     "name": "stdout",
     "output_type": "stream",
     "text": [
      "(5, 2.2, 'DS', False)\n"
     ]
    }
   ],
   "source": [
    "x = (5, 2.2, 'DS', 2==3)\n",
    "print(x)"
   ]
  },
  {
   "cell_type": "code",
   "execution_count": 6,
   "id": "94789d20",
   "metadata": {},
   "outputs": [
    {
     "name": "stdout",
     "output_type": "stream",
     "text": [
      "2.2\n"
     ]
    }
   ],
   "source": [
    "# slicing 1p\n",
    "\n",
    "print(x[1])"
   ]
  },
  {
   "cell_type": "code",
   "execution_count": 7,
   "id": "64b5143d",
   "metadata": {},
   "outputs": [
    {
     "name": "stdout",
     "output_type": "stream",
     "text": [
      "(2.2, 'DS', False)\n"
     ]
    }
   ],
   "source": [
    "# slicing 2p\n",
    "\n",
    "print(x[1:4])"
   ]
  },
  {
   "cell_type": "code",
   "execution_count": 12,
   "id": "08a2899d",
   "metadata": {},
   "outputs": [
    {
     "name": "stdout",
     "output_type": "stream",
     "text": [
      "(5, 'DS')\n"
     ]
    }
   ],
   "source": [
    "# slicing 3p\n",
    "\n",
    "print(x[0:4:2])"
   ]
  },
  {
   "cell_type": "code",
   "execution_count": 13,
   "id": "21d55e20",
   "metadata": {},
   "outputs": [
    {
     "name": "stdout",
     "output_type": "stream",
     "text": [
      "(5, False)\n"
     ]
    }
   ],
   "source": [
    "# slicing 3p\n",
    "\n",
    "print(x[0::3])"
   ]
  },
  {
   "cell_type": "code",
   "execution_count": null,
   "id": "b29ab00f",
   "metadata": {},
   "outputs": [],
   "source": []
  }
 ],
 "metadata": {
  "kernelspec": {
   "display_name": "Python 3",
   "language": "python",
   "name": "python3"
  },
  "language_info": {
   "codemirror_mode": {
    "name": "ipython",
    "version": 3
   },
   "file_extension": ".py",
   "mimetype": "text/x-python",
   "name": "python",
   "nbconvert_exporter": "python",
   "pygments_lexer": "ipython3",
   "version": "3.8.8"
  }
 },
 "nbformat": 4,
 "nbformat_minor": 5
}
