{
 "cells": [
  {
   "cell_type": "markdown",
   "id": "a8ae02e0",
   "metadata": {},
   "source": [
    "#### Variabel\n",
    "\n",
    "Variabel adalah sebuah tempat (di memori komputer) untuk menyimpan nilai dengan tipe data tertentu. Untuk memberikan nilai pada sebuah variabel, kitamenggunakan operator \"=\", antara nama variabeldengan nilai yang ingin disimpan."
   ]
  },
  {
   "cell_type": "code",
   "execution_count": 1,
   "id": "439ecfb5",
   "metadata": {},
   "outputs": [],
   "source": [
    "a = 3"
   ]
  },
  {
   "cell_type": "markdown",
   "id": "5c55472b",
   "metadata": {},
   "source": [
    "#### Print\n",
    "\n",
    "Fungsi print() adalah cara mengeluarkan output langsung ke konsol/layar."
   ]
  },
  {
   "cell_type": "code",
   "execution_count": 2,
   "id": "6d93a88d",
   "metadata": {},
   "outputs": [
    {
     "name": "stdout",
     "output_type": "stream",
     "text": [
      "Apa kabar?\n"
     ]
    }
   ],
   "source": [
    "print('Apa kabar?')"
   ]
  },
  {
   "cell_type": "markdown",
   "id": "18797079",
   "metadata": {},
   "source": [
    "#### Memasukkan nilai variabel pada string\n",
    "\n",
    "Untuk memasukkan nilai variabel pada string, Python memiliki bebrapa cara\n",
    "- Langsung menggabungkan variabel pada statement print()."
   ]
  },
  {
   "cell_type": "code",
   "execution_count": 3,
   "id": "c0ab62a5",
   "metadata": {},
   "outputs": [],
   "source": [
    "a = 3"
   ]
  },
  {
   "cell_type": "code",
   "execution_count": 5,
   "id": "229a72a3",
   "metadata": {},
   "outputs": [
    {
     "data": {
      "text/plain": [
       "int"
      ]
     },
     "execution_count": 5,
     "metadata": {},
     "output_type": "execute_result"
    }
   ],
   "source": [
    "type(a)"
   ]
  },
  {
   "cell_type": "code",
   "execution_count": 7,
   "id": "12be1b32",
   "metadata": {},
   "outputs": [
    {
     "name": "stdout",
     "output_type": "stream",
     "text": [
      "Nilai variabel a adalah 3\n"
     ]
    }
   ],
   "source": [
    "print('Nilai variabel a adalah', a)"
   ]
  },
  {
   "cell_type": "markdown",
   "id": "671926b7",
   "metadata": {},
   "source": [
    "- Untuk menampilkan text (string), bisa menggunakanmekanisme string format"
   ]
  },
  {
   "cell_type": "code",
   "execution_count": 8,
   "id": "4c847458",
   "metadata": {},
   "outputs": [
    {
     "name": "stdout",
     "output_type": "stream",
     "text": [
      "Nama saya Na Hee Do\n"
     ]
    }
   ],
   "source": [
    "print('Nama saya {}' .format('Na Hee Do'))"
   ]
  },
  {
   "cell_type": "markdown",
   "id": "f9cf74d1",
   "metadata": {},
   "source": [
    "Menggunakan operator \"%\" yang ditambahkan dengan \"argument specifiers\"\n",
    "\n",
    "Beberapa contoh argument specifier yang umum digunakan:\n",
    "- %s - String\n",
    "- %d - Integers\n",
    "- %f - Bilangan desimal"
   ]
  },
  {
   "cell_type": "code",
   "execution_count": 9,
   "id": "75041ca3",
   "metadata": {},
   "outputs": [],
   "source": [
    "nama = 'Back Yi Jin'"
   ]
  },
  {
   "cell_type": "code",
   "execution_count": 10,
   "id": "6ee6f0f6",
   "metadata": {},
   "outputs": [],
   "source": [
    "umur = 25"
   ]
  },
  {
   "cell_type": "code",
   "execution_count": 11,
   "id": "180607e4",
   "metadata": {},
   "outputs": [
    {
     "name": "stdout",
     "output_type": "stream",
     "text": [
      "Umur Back Yi Jin adalah 25 tahun.\n"
     ]
    }
   ],
   "source": [
    "print('Umur %s adalah %d tahun.' % (nama, umur))"
   ]
  },
  {
   "cell_type": "markdown",
   "id": "71583f76",
   "metadata": {},
   "source": [
    "Task"
   ]
  },
  {
   "cell_type": "code",
   "execution_count": 24,
   "id": "923fb40b",
   "metadata": {},
   "outputs": [],
   "source": [
    "nama2 = 'Dian Maulida'\n",
    "umur2 = 20\n",
    "tb = 1.6"
   ]
  },
  {
   "cell_type": "code",
   "execution_count": 27,
   "id": "b4c4fa30",
   "metadata": {},
   "outputs": [
    {
     "name": "stdout",
     "output_type": "stream",
     "text": [
      "Nama saya adalah Dian Maulida umur 20 tahun dan tinggi badan saya 1.6 m.\n"
     ]
    }
   ],
   "source": [
    "# koma\n",
    "print('Nama saya adalah', nama2, 'umur', umur2, 'tahun dan tinggi badan saya', tb, 'm.')"
   ]
  },
  {
   "cell_type": "code",
   "execution_count": 34,
   "id": "ba8fe705",
   "metadata": {},
   "outputs": [
    {
     "name": "stdout",
     "output_type": "stream",
     "text": [
      "Nama saya adalah Dian Maulida, umur 20 tahun, dan tinggi badan saya 1.6 m.\n"
     ]
    }
   ],
   "source": [
    "# dot format\n",
    "print('Nama saya adalah {}, umur {} tahun, dan tinggi badan saya {} m.' .format(nama2, umur2, tb))"
   ]
  },
  {
   "cell_type": "code",
   "execution_count": 30,
   "id": "ff4669cb",
   "metadata": {},
   "outputs": [
    {
     "name": "stdout",
     "output_type": "stream",
     "text": [
      "Nama saya adalah Dian Maulida, umur 20 tahun, dan tinggi badan saya 1.600000 m.\n"
     ]
    }
   ],
   "source": [
    "# argument specifier\n",
    "print('Nama saya adalah %s, umur %d tahun, dan tinggi badan saya %f m.' % (nama2, umur2, tb))"
   ]
  },
  {
   "cell_type": "markdown",
   "id": "9658d152",
   "metadata": {},
   "source": [
    "#### Input\n",
    "\n",
    "Untuk memungkinkan user memberikan input pada program Anda, gunakan fungsi input(), dengan argumen dalam kurung () adalah teks yang ingin ditampilkan (prompt) dan variabel sebelum tanda sama dengan (=) adalah penampung hasil dari input pengguna."
   ]
  },
  {
   "cell_type": "code",
   "execution_count": 35,
   "id": "6f9e9780",
   "metadata": {},
   "outputs": [
    {
     "name": "stdout",
     "output_type": "stream",
     "text": [
      "test\n"
     ]
    },
    {
     "data": {
      "text/plain": [
       "'test'"
      ]
     },
     "execution_count": 35,
     "metadata": {},
     "output_type": "execute_result"
    }
   ],
   "source": [
    "input()"
   ]
  },
  {
   "cell_type": "code",
   "execution_count": 36,
   "id": "63c5c819",
   "metadata": {},
   "outputs": [
    {
     "name": "stdout",
     "output_type": "stream",
     "text": [
      "Nama saya:Dian\n"
     ]
    }
   ],
   "source": [
    "nama = input(\"Nama saya:\")"
   ]
  },
  {
   "cell_type": "code",
   "execution_count": 37,
   "id": "addac9fb",
   "metadata": {},
   "outputs": [
    {
     "name": "stdout",
     "output_type": "stream",
     "text": [
      "Dian\n"
     ]
    }
   ],
   "source": [
    "print(nama)"
   ]
  },
  {
   "cell_type": "markdown",
   "id": "57600c36",
   "metadata": {},
   "source": [
    "Secara default, input dari user adalah string"
   ]
  },
  {
   "cell_type": "code",
   "execution_count": 39,
   "id": "e4e69e9e",
   "metadata": {},
   "outputs": [
    {
     "name": "stdout",
     "output_type": "stream",
     "text": [
      "Umur saya:20\n"
     ]
    }
   ],
   "source": [
    "umur = input('Umur saya:')"
   ]
  },
  {
   "cell_type": "code",
   "execution_count": 40,
   "id": "97427e45",
   "metadata": {},
   "outputs": [
    {
     "name": "stdout",
     "output_type": "stream",
     "text": [
      "20\n"
     ]
    }
   ],
   "source": [
    "print(umur)"
   ]
  },
  {
   "cell_type": "code",
   "execution_count": 41,
   "id": "3f1d0e34",
   "metadata": {},
   "outputs": [
    {
     "name": "stdout",
     "output_type": "stream",
     "text": [
      "13\n"
     ]
    }
   ],
   "source": [
    "angka = int(input())"
   ]
  },
  {
   "cell_type": "code",
   "execution_count": 42,
   "id": "5fa88afb",
   "metadata": {},
   "outputs": [
    {
     "data": {
      "text/plain": [
       "int"
      ]
     },
     "execution_count": 42,
     "metadata": {},
     "output_type": "execute_result"
    }
   ],
   "source": [
    "type(angka)"
   ]
  },
  {
   "cell_type": "markdown",
   "id": "a910d0c6",
   "metadata": {},
   "source": [
    "Task"
   ]
  },
  {
   "cell_type": "code",
   "execution_count": 5,
   "id": "431130ea",
   "metadata": {},
   "outputs": [
    {
     "name": "stdout",
     "output_type": "stream",
     "text": [
      "Usia saya:20\n"
     ]
    }
   ],
   "source": [
    "usia = int(input('Usia saya:'))"
   ]
  },
  {
   "cell_type": "code",
   "execution_count": 6,
   "id": "a8167589",
   "metadata": {},
   "outputs": [
    {
     "data": {
      "text/plain": [
       "int"
      ]
     },
     "execution_count": 6,
     "metadata": {},
     "output_type": "execute_result"
    }
   ],
   "source": [
    "type(usia)"
   ]
  },
  {
   "cell_type": "code",
   "execution_count": 9,
   "id": "fb99eb99",
   "metadata": {},
   "outputs": [
    {
     "name": "stdout",
     "output_type": "stream",
     "text": [
      "Tinggi badan saya:160.0\n"
     ]
    }
   ],
   "source": [
    "tb = float(input('Tinggi badan saya:'))"
   ]
  },
  {
   "cell_type": "code",
   "execution_count": 10,
   "id": "deae8fc0",
   "metadata": {},
   "outputs": [
    {
     "data": {
      "text/plain": [
       "float"
      ]
     },
     "execution_count": 10,
     "metadata": {},
     "output_type": "execute_result"
    }
   ],
   "source": [
    "type(tb)"
   ]
  },
  {
   "cell_type": "code",
   "execution_count": null,
   "id": "fa06f4c2",
   "metadata": {},
   "outputs": [],
   "source": []
  }
 ],
 "metadata": {
  "kernelspec": {
   "display_name": "Python 3",
   "language": "python",
   "name": "python3"
  },
  "language_info": {
   "codemirror_mode": {
    "name": "ipython",
    "version": 3
   },
   "file_extension": ".py",
   "mimetype": "text/x-python",
   "name": "python",
   "nbconvert_exporter": "python",
   "pygments_lexer": "ipython3",
   "version": "3.8.8"
  }
 },
 "nbformat": 4,
 "nbformat_minor": 5
}
