{
 "cells": [
  {
   "cell_type": "markdown",
   "id": "1ed39c98",
   "metadata": {},
   "source": [
    "### Mengubah huruf besar/kecil"
   ]
  },
  {
   "cell_type": "markdown",
   "id": "6b155d41",
   "metadata": {},
   "source": [
    "#### Upper()\n",
    "\n",
    "- Metode upper() dapat digunakan untuk mengonversi karakter atau string dari huruf kecil ke huruf besar\n",
    "- Namun, jika huruf asalnya adalah huruf besar, maka huruf tersebut tidak berubah"
   ]
  },
  {
   "cell_type": "code",
   "execution_count": 5,
   "id": "9ba87685",
   "metadata": {},
   "outputs": [],
   "source": [
    "nama = 'soe dal mi'"
   ]
  },
  {
   "cell_type": "code",
   "execution_count": 6,
   "id": "3fdfb2de",
   "metadata": {},
   "outputs": [
    {
     "data": {
      "text/plain": [
       "'SOE DAL MI'"
      ]
     },
     "execution_count": 6,
     "metadata": {},
     "output_type": "execute_result"
    }
   ],
   "source": [
    "nama.upper()"
   ]
  },
  {
   "cell_type": "markdown",
   "id": "762bb30f",
   "metadata": {},
   "source": [
    "#### Lower()\n",
    "\n",
    "- Metode lower() mengonversi karakter atau string dari huruf besar ke huruf keci;\n",
    "- Namun, jika huruf asalnya adalah huruf kecil, maka huruf tersebut tidak berubah"
   ]
  },
  {
   "cell_type": "code",
   "execution_count": 7,
   "id": "5684adb4",
   "metadata": {},
   "outputs": [],
   "source": [
    "nama = 'SOE DAL MI'"
   ]
  },
  {
   "cell_type": "code",
   "execution_count": 8,
   "id": "864c9c24",
   "metadata": {},
   "outputs": [
    {
     "data": {
      "text/plain": [
       "'soe dal mi'"
      ]
     },
     "execution_count": 8,
     "metadata": {},
     "output_type": "execute_result"
    }
   ],
   "source": [
    "nama.lower()"
   ]
  },
  {
   "cell_type": "markdown",
   "id": "44dd1d3a",
   "metadata": {},
   "source": [
    "- kedua metode ini, baik upper() maupun lower() adalah metode built in atau bawaan dari pythonyang dapat digunakan untuk menangani operasi string\n",
    "- Jika terdapat karakter bukan huruf seperti simbolatau angka yang tidak memilikiopsi kapital, maka karakter tersebut tidak diubah"
   ]
  },
  {
   "cell_type": "code",
   "execution_count": 9,
   "id": "63e73bb1",
   "metadata": {},
   "outputs": [],
   "source": [
    "nama = 'kim tae ri - 1'"
   ]
  },
  {
   "cell_type": "code",
   "execution_count": 11,
   "id": "d9c91b84",
   "metadata": {},
   "outputs": [
    {
     "data": {
      "text/plain": [
       "'KIM TAE RI - 1'"
      ]
     },
     "execution_count": 11,
     "metadata": {},
     "output_type": "execute_result"
    }
   ],
   "source": [
    "nama.upper()"
   ]
  },
  {
   "cell_type": "code",
   "execution_count": 14,
   "id": "00b96e82",
   "metadata": {},
   "outputs": [
    {
     "data": {
      "text/plain": [
       "'kim tae ri - 1'"
      ]
     },
     "execution_count": 14,
     "metadata": {},
     "output_type": "execute_result"
    }
   ],
   "source": [
    "nama.lower()"
   ]
  },
  {
   "cell_type": "markdown",
   "id": "3caf85e3",
   "metadata": {},
   "source": [
    "Task"
   ]
  },
  {
   "cell_type": "code",
   "execution_count": 16,
   "id": "08ad9bea",
   "metadata": {},
   "outputs": [],
   "source": [
    "name = 'Dian Maulida 2002λ'"
   ]
  },
  {
   "cell_type": "code",
   "execution_count": 17,
   "id": "c418810f",
   "metadata": {},
   "outputs": [
    {
     "data": {
      "text/plain": [
       "'dian maulida 2002λ'"
      ]
     },
     "execution_count": 17,
     "metadata": {},
     "output_type": "execute_result"
    }
   ],
   "source": [
    "name.lower()"
   ]
  },
  {
   "cell_type": "code",
   "execution_count": 18,
   "id": "4568e0c7",
   "metadata": {},
   "outputs": [
    {
     "data": {
      "text/plain": [
       "'DIAN MAULIDA 2002Λ'"
      ]
     },
     "execution_count": 18,
     "metadata": {},
     "output_type": "execute_result"
    }
   ],
   "source": [
    "name.upper()"
   ]
  },
  {
   "cell_type": "code",
   "execution_count": 19,
   "id": "102f66cd",
   "metadata": {},
   "outputs": [
    {
     "data": {
      "text/plain": [
       "'DIAN MAULIDA 2002Λ'"
      ]
     },
     "execution_count": 19,
     "metadata": {},
     "output_type": "execute_result"
    }
   ],
   "source": [
    "name.lower().upper()"
   ]
  },
  {
   "cell_type": "markdown",
   "id": "2bc20805",
   "metadata": {},
   "source": [
    "### Awalan dan Akhiran\n"
   ]
  },
  {
   "cell_type": "markdown",
   "id": "1270cddd",
   "metadata": {},
   "source": [
    "#### rstrip()\n",
    "\n",
    "rstrip() akan menghapus whitespace pada sebelah kanan string atau akhir string"
   ]
  },
  {
   "cell_type": "code",
   "execution_count": 31,
   "id": "c37b16e1",
   "metadata": {},
   "outputs": [],
   "source": [
    "a = 'Data '"
   ]
  },
  {
   "cell_type": "code",
   "execution_count": 32,
   "id": "be92d3fd",
   "metadata": {},
   "outputs": [
    {
     "data": {
      "text/plain": [
       "'Data '"
      ]
     },
     "execution_count": 32,
     "metadata": {},
     "output_type": "execute_result"
    }
   ],
   "source": [
    "a"
   ]
  },
  {
   "cell_type": "code",
   "execution_count": 33,
   "id": "ff957486",
   "metadata": {},
   "outputs": [
    {
     "data": {
      "text/plain": [
       "'Data'"
      ]
     },
     "execution_count": 33,
     "metadata": {},
     "output_type": "execute_result"
    }
   ],
   "source": [
    "a.rstrip()"
   ]
  },
  {
   "cell_type": "markdown",
   "id": "8b701e0b",
   "metadata": {},
   "source": [
    "#### lstrip()\n",
    "\n",
    "lstrip() akan menghapus whitespace pada sebelah kanan string atau akhir string"
   ]
  },
  {
   "cell_type": "code",
   "execution_count": 24,
   "id": "7a52617f",
   "metadata": {},
   "outputs": [],
   "source": [
    "b = ' Data'"
   ]
  },
  {
   "cell_type": "code",
   "execution_count": 25,
   "id": "1f40d149",
   "metadata": {},
   "outputs": [
    {
     "data": {
      "text/plain": [
       "' Data'"
      ]
     },
     "execution_count": 25,
     "metadata": {},
     "output_type": "execute_result"
    }
   ],
   "source": [
    "b"
   ]
  },
  {
   "cell_type": "code",
   "execution_count": 26,
   "id": "b6f5413b",
   "metadata": {},
   "outputs": [
    {
     "data": {
      "text/plain": [
       "'Data'"
      ]
     },
     "execution_count": 26,
     "metadata": {},
     "output_type": "execute_result"
    }
   ],
   "source": [
    "b.lstrip()"
   ]
  },
  {
   "cell_type": "markdown",
   "id": "a9f82e06",
   "metadata": {},
   "source": [
    "#### Strip()\n",
    "\n",
    "Metode strip juga bisa menghapus whitespace pada bagian awal atau akhir string."
   ]
  },
  {
   "cell_type": "code",
   "execution_count": 27,
   "id": "ed801089",
   "metadata": {},
   "outputs": [],
   "source": [
    "c = 'DataScienceData'"
   ]
  },
  {
   "cell_type": "code",
   "execution_count": 28,
   "id": "4ce54454",
   "metadata": {},
   "outputs": [
    {
     "data": {
      "text/plain": [
       "'DataScienceData'"
      ]
     },
     "execution_count": 28,
     "metadata": {},
     "output_type": "execute_result"
    }
   ],
   "source": [
    "c"
   ]
  },
  {
   "cell_type": "code",
   "execution_count": 36,
   "id": "6bdf6b07",
   "metadata": {},
   "outputs": [
    {
     "data": {
      "text/plain": [
       "'Science'"
      ]
     },
     "execution_count": 36,
     "metadata": {},
     "output_type": "execute_result"
    }
   ],
   "source": [
    "c.strip('Data')"
   ]
  },
  {
   "cell_type": "code",
   "execution_count": 38,
   "id": "e5ec3d9d",
   "metadata": {},
   "outputs": [],
   "source": [
    "d = ' Data '"
   ]
  },
  {
   "cell_type": "code",
   "execution_count": 39,
   "id": "20943c7f",
   "metadata": {},
   "outputs": [
    {
     "data": {
      "text/plain": [
       "' Data '"
      ]
     },
     "execution_count": 39,
     "metadata": {},
     "output_type": "execute_result"
    }
   ],
   "source": [
    "d"
   ]
  },
  {
   "cell_type": "code",
   "execution_count": 40,
   "id": "0dd38742",
   "metadata": {},
   "outputs": [
    {
     "data": {
      "text/plain": [
       "'Data'"
      ]
     },
     "execution_count": 40,
     "metadata": {},
     "output_type": "execute_result"
    }
   ],
   "source": [
    "d.strip()"
   ]
  },
  {
   "cell_type": "markdown",
   "id": "034eb30d",
   "metadata": {},
   "source": [
    "Task"
   ]
  },
  {
   "cell_type": "code",
   "execution_count": 43,
   "id": "35e72cc0",
   "metadata": {},
   "outputs": [
    {
     "data": {
      "text/plain": [
       "'Dian '"
      ]
     },
     "execution_count": 43,
     "metadata": {},
     "output_type": "execute_result"
    }
   ],
   "source": [
    "r = 'Dian '\n",
    "r"
   ]
  },
  {
   "cell_type": "code",
   "execution_count": 44,
   "id": "adc26762",
   "metadata": {},
   "outputs": [
    {
     "data": {
      "text/plain": [
       "'Dian'"
      ]
     },
     "execution_count": 44,
     "metadata": {},
     "output_type": "execute_result"
    }
   ],
   "source": [
    "r.rstrip()"
   ]
  },
  {
   "cell_type": "code",
   "execution_count": 45,
   "id": "bd8b9e1b",
   "metadata": {},
   "outputs": [
    {
     "data": {
      "text/plain": [
       "' Dian'"
      ]
     },
     "execution_count": 45,
     "metadata": {},
     "output_type": "execute_result"
    }
   ],
   "source": [
    "s = ' Dian'\n",
    "s"
   ]
  },
  {
   "cell_type": "code",
   "execution_count": 46,
   "id": "c0b94d47",
   "metadata": {},
   "outputs": [
    {
     "data": {
      "text/plain": [
       "'Dian'"
      ]
     },
     "execution_count": 46,
     "metadata": {},
     "output_type": "execute_result"
    }
   ],
   "source": [
    "s.lstrip()"
   ]
  },
  {
   "cell_type": "code",
   "execution_count": 47,
   "id": "6642e402",
   "metadata": {},
   "outputs": [
    {
     "data": {
      "text/plain": [
       "' MyEduSolve '"
      ]
     },
     "execution_count": 47,
     "metadata": {},
     "output_type": "execute_result"
    }
   ],
   "source": [
    "t = ' MyEduSolve '\n",
    "t"
   ]
  },
  {
   "cell_type": "code",
   "execution_count": 48,
   "id": "e518cb96",
   "metadata": {},
   "outputs": [
    {
     "data": {
      "text/plain": [
       "'MyEduSolve'"
      ]
     },
     "execution_count": 48,
     "metadata": {},
     "output_type": "execute_result"
    }
   ],
   "source": [
    "t.strip()"
   ]
  },
  {
   "cell_type": "code",
   "execution_count": 49,
   "id": "1bf756fc",
   "metadata": {},
   "outputs": [
    {
     "data": {
      "text/plain": [
       "'MyEduSolve'"
      ]
     },
     "execution_count": 49,
     "metadata": {},
     "output_type": "execute_result"
    }
   ],
   "source": [
    "u = 'MyEduSolve'\n",
    "u"
   ]
  },
  {
   "cell_type": "code",
   "execution_count": 50,
   "id": "10738cae",
   "metadata": {},
   "outputs": [
    {
     "data": {
      "text/plain": [
       "'EduSolve'"
      ]
     },
     "execution_count": 50,
     "metadata": {},
     "output_type": "execute_result"
    }
   ],
   "source": [
    "u.strip('My')"
   ]
  },
  {
   "cell_type": "markdown",
   "id": "56e2a679",
   "metadata": {},
   "source": [
    "#### Startswith()\n",
    "\n",
    "Metode startswith() akan mengembalikan nilai True jika string diawali dengan kata awalan tertentu yang kita inginkan, jika tidak maka akan mengembalikan nilai False."
   ]
  },
  {
   "cell_type": "code",
   "execution_count": 1,
   "id": "28d99980",
   "metadata": {},
   "outputs": [],
   "source": [
    "a = 'Data Science'"
   ]
  },
  {
   "cell_type": "code",
   "execution_count": 2,
   "id": "95ec3651",
   "metadata": {},
   "outputs": [
    {
     "data": {
      "text/plain": [
       "False"
      ]
     },
     "execution_count": 2,
     "metadata": {},
     "output_type": "execute_result"
    }
   ],
   "source": [
    "a.startswith('Science')"
   ]
  },
  {
   "cell_type": "code",
   "execution_count": 3,
   "id": "69495551",
   "metadata": {},
   "outputs": [],
   "source": [
    "b = 'Data Science Track'"
   ]
  },
  {
   "cell_type": "code",
   "execution_count": 6,
   "id": "f644d02e",
   "metadata": {},
   "outputs": [
    {
     "data": {
      "text/plain": [
       "True"
      ]
     },
     "execution_count": 6,
     "metadata": {},
     "output_type": "execute_result"
    }
   ],
   "source": [
    "b.startswith('Data')"
   ]
  },
  {
   "cell_type": "code",
   "execution_count": 5,
   "id": "1beb00b0",
   "metadata": {},
   "outputs": [],
   "source": [
    "c = 'Data Science Track'"
   ]
  },
  {
   "cell_type": "code",
   "execution_count": 7,
   "id": "20b80e2a",
   "metadata": {},
   "outputs": [
    {
     "data": {
      "text/plain": [
       "True"
      ]
     },
     "execution_count": 7,
     "metadata": {},
     "output_type": "execute_result"
    }
   ],
   "source": [
    "c.startswith('Data Science')"
   ]
  },
  {
   "cell_type": "code",
   "execution_count": 8,
   "id": "7b46e147",
   "metadata": {},
   "outputs": [],
   "source": [
    "d = 'Data Science Track'"
   ]
  },
  {
   "cell_type": "code",
   "execution_count": 9,
   "id": "1713dbb1",
   "metadata": {},
   "outputs": [
    {
     "data": {
      "text/plain": [
       "False"
      ]
     },
     "execution_count": 9,
     "metadata": {},
     "output_type": "execute_result"
    }
   ],
   "source": [
    "c.startswith('Track')"
   ]
  },
  {
   "cell_type": "markdown",
   "id": "9a089fa1",
   "metadata": {},
   "source": [
    "#### Endswith()\n",
    "\n",
    "Metode endswith() ini kebalikannya dari metode startswith(), akan mengembalikan nilai True jika string diakhiri dengan kata akhiran tertentu yang kita inginkan, jika tidak maka akan mengembalikan nilai False."
   ]
  },
  {
   "cell_type": "code",
   "execution_count": 10,
   "id": "4849e960",
   "metadata": {},
   "outputs": [],
   "source": [
    "a = 'Data Science'"
   ]
  },
  {
   "cell_type": "code",
   "execution_count": 11,
   "id": "2bc88448",
   "metadata": {},
   "outputs": [
    {
     "data": {
      "text/plain": [
       "True"
      ]
     },
     "execution_count": 11,
     "metadata": {},
     "output_type": "execute_result"
    }
   ],
   "source": [
    "a.endswith('Science')"
   ]
  },
  {
   "cell_type": "code",
   "execution_count": null,
   "id": "7b2548f3",
   "metadata": {},
   "outputs": [],
   "source": [
    "b = 'Data Science Track'"
   ]
  },
  {
   "cell_type": "code",
   "execution_count": 12,
   "id": "897d594d",
   "metadata": {},
   "outputs": [
    {
     "data": {
      "text/plain": [
       "True"
      ]
     },
     "execution_count": 12,
     "metadata": {},
     "output_type": "execute_result"
    }
   ],
   "source": [
    "b.endswith('Science Track')"
   ]
  },
  {
   "cell_type": "markdown",
   "id": "2e383377",
   "metadata": {},
   "source": [
    "Task"
   ]
  },
  {
   "cell_type": "code",
   "execution_count": 16,
   "id": "b8c9fb98",
   "metadata": {},
   "outputs": [],
   "source": [
    "x = 'Hari ini saya akan belajar mata kuliah Proses Stokastik'"
   ]
  },
  {
   "cell_type": "code",
   "execution_count": 17,
   "id": "110ad744",
   "metadata": {},
   "outputs": [
    {
     "name": "stdout",
     "output_type": "stream",
     "text": [
      "True True True True True True\n"
     ]
    }
   ],
   "source": [
    "print(x.startswith('Hari'),\n",
    "      x.startswith('Hari ini'),\n",
    "      x.startswith('Hari ini saya'),\n",
    "      x.endswith('Stokastik'),\n",
    "      x.endswith('Proses Stokastik'),\n",
    "      x.endswith('kuliah Proses Stokastik'),\n",
    "     )"
   ]
  },
  {
   "cell_type": "code",
   "execution_count": null,
   "id": "e6278be8",
   "metadata": {},
   "outputs": [],
   "source": []
  }
 ],
 "metadata": {
  "kernelspec": {
   "display_name": "Python 3",
   "language": "python",
   "name": "python3"
  },
  "language_info": {
   "codemirror_mode": {
    "name": "ipython",
    "version": 3
   },
   "file_extension": ".py",
   "mimetype": "text/x-python",
   "name": "python",
   "nbconvert_exporter": "python",
   "pygments_lexer": "ipython3",
   "version": "3.8.8"
  }
 },
 "nbformat": 4,
 "nbformat_minor": 5
}
