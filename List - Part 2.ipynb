{
 "cells": [
  {
   "cell_type": "code",
   "execution_count": 1,
   "id": "f02a5ae2",
   "metadata": {},
   "outputs": [],
   "source": [
    "arr = [1,2,3]"
   ]
  },
  {
   "cell_type": "code",
   "execution_count": 2,
   "id": "62af0c7d",
   "metadata": {},
   "outputs": [
    {
     "name": "stdout",
     "output_type": "stream",
     "text": [
      "1\n"
     ]
    }
   ],
   "source": [
    "print(arr[0])"
   ]
  },
  {
   "cell_type": "markdown",
   "id": "5ddc32fc",
   "metadata": {},
   "source": [
    "### Append\n",
    "\n",
    "Adds a single element x to end of a list"
   ]
  },
  {
   "cell_type": "code",
   "execution_count": 3,
   "id": "65b305f7",
   "metadata": {},
   "outputs": [],
   "source": [
    "arr.append(9)"
   ]
  },
  {
   "cell_type": "code",
   "execution_count": 4,
   "id": "b9712a49",
   "metadata": {},
   "outputs": [
    {
     "name": "stdout",
     "output_type": "stream",
     "text": [
      "[1, 2, 3, 9]\n"
     ]
    }
   ],
   "source": [
    "print(arr)"
   ]
  },
  {
   "cell_type": "markdown",
   "id": "039830d8",
   "metadata": {},
   "source": [
    "### Extend(L)\n",
    "\n",
    "Merger another list L to the end"
   ]
  },
  {
   "cell_type": "code",
   "execution_count": 5,
   "id": "4c88f3e1",
   "metadata": {},
   "outputs": [],
   "source": [
    "arr.extend([10,11])"
   ]
  },
  {
   "cell_type": "code",
   "execution_count": 6,
   "id": "f4977d0e",
   "metadata": {},
   "outputs": [
    {
     "name": "stdout",
     "output_type": "stream",
     "text": [
      "[1, 2, 3, 9, 10, 11]\n"
     ]
    }
   ],
   "source": [
    "print(arr)"
   ]
  },
  {
   "cell_type": "markdown",
   "id": "5e4c009e",
   "metadata": {},
   "source": [
    "### Insert(i,x)\n",
    "\n",
    "Insert element x at position i"
   ]
  },
  {
   "cell_type": "code",
   "execution_count": 9,
   "id": "becc4847",
   "metadata": {},
   "outputs": [],
   "source": [
    "arr.insert(3,7)"
   ]
  },
  {
   "cell_type": "code",
   "execution_count": 8,
   "id": "09d52fc2",
   "metadata": {},
   "outputs": [
    {
     "name": "stdout",
     "output_type": "stream",
     "text": [
      "[1, 2, 3, 7, 9, 10, 11]\n"
     ]
    }
   ],
   "source": [
    "print(arr)"
   ]
  },
  {
   "cell_type": "markdown",
   "id": "398ad122",
   "metadata": {},
   "source": [
    "Task"
   ]
  },
  {
   "cell_type": "code",
   "execution_count": 14,
   "id": "c6c2673f",
   "metadata": {},
   "outputs": [],
   "source": [
    "y = [1, 3.5, 5, 5.7, 7, 'DS', 'DA', 'DE', True, False]"
   ]
  },
  {
   "cell_type": "code",
   "execution_count": 15,
   "id": "c9cb88b5",
   "metadata": {},
   "outputs": [],
   "source": [
    "y.append(10)"
   ]
  },
  {
   "cell_type": "code",
   "execution_count": 16,
   "id": "13c0c51c",
   "metadata": {},
   "outputs": [
    {
     "name": "stdout",
     "output_type": "stream",
     "text": [
      "[1, 3.5, 5, 5.7, 7, 'DS', 'DA', 'DE', True, False, 10]\n"
     ]
    }
   ],
   "source": [
    "print(y)"
   ]
  },
  {
   "cell_type": "code",
   "execution_count": 17,
   "id": "8ba8ab6e",
   "metadata": {},
   "outputs": [],
   "source": [
    "y.extend([11,12])"
   ]
  },
  {
   "cell_type": "code",
   "execution_count": 18,
   "id": "b5a7a6a7",
   "metadata": {},
   "outputs": [
    {
     "name": "stdout",
     "output_type": "stream",
     "text": [
      "[1, 3.5, 5, 5.7, 7, 'DS', 'DA', 'DE', True, False, 10, 11, 12]\n"
     ]
    }
   ],
   "source": [
    "print(y)"
   ]
  },
  {
   "cell_type": "code",
   "execution_count": 20,
   "id": "8fad3c5e",
   "metadata": {},
   "outputs": [],
   "source": [
    "y.insert(3,False)"
   ]
  },
  {
   "cell_type": "code",
   "execution_count": 21,
   "id": "cfcf0844",
   "metadata": {},
   "outputs": [
    {
     "name": "stdout",
     "output_type": "stream",
     "text": [
      "[1, 3.5, 5, False, 5.7, 7, 'DS', 'DA', 'DE', True, False, 10, 11, 12]\n"
     ]
    }
   ],
   "source": [
    "print(y)"
   ]
  },
  {
   "cell_type": "markdown",
   "id": "09424703",
   "metadata": {},
   "source": [
    "### Remove(x)\n",
    "\n",
    "Remove the first occurence of element x"
   ]
  },
  {
   "cell_type": "code",
   "execution_count": 47,
   "id": "8fc529bd",
   "metadata": {},
   "outputs": [],
   "source": [
    "arr = [1, 2, 3, 7, 9, 10, 11]"
   ]
  },
  {
   "cell_type": "code",
   "execution_count": 48,
   "id": "a1b89f0c",
   "metadata": {},
   "outputs": [
    {
     "data": {
      "text/plain": [
       "[1, 2, 3, 7, 9, 10, 11]"
      ]
     },
     "execution_count": 48,
     "metadata": {},
     "output_type": "execute_result"
    }
   ],
   "source": [
    "arr"
   ]
  },
  {
   "cell_type": "code",
   "execution_count": 49,
   "id": "874cda33",
   "metadata": {},
   "outputs": [],
   "source": [
    "arr.remove(10) #menghapus nilai 10 pertama yg ditemui (bukan index ke-10)"
   ]
  },
  {
   "cell_type": "code",
   "execution_count": 50,
   "id": "9dc6ff63",
   "metadata": {},
   "outputs": [
    {
     "name": "stdout",
     "output_type": "stream",
     "text": [
      "[1, 2, 3, 7, 9, 11]\n"
     ]
    }
   ],
   "source": [
    "print(arr)"
   ]
  },
  {
   "cell_type": "markdown",
   "id": "50eaafae",
   "metadata": {},
   "source": [
    "### Pop()\n",
    "\n",
    "Removes the last elements of a list an argument is passed, that index item is popped out."
   ]
  },
  {
   "cell_type": "code",
   "execution_count": 40,
   "id": "401ad5c2",
   "metadata": {},
   "outputs": [
    {
     "data": {
      "text/plain": [
       "11"
      ]
     },
     "execution_count": 40,
     "metadata": {},
     "output_type": "execute_result"
    }
   ],
   "source": [
    "arr.pop() #menghapus elemen terakhir, tapi dikasih tau elemen apa yang dihapus"
   ]
  },
  {
   "cell_type": "code",
   "execution_count": 41,
   "id": "1327d4b2",
   "metadata": {},
   "outputs": [
    {
     "name": "stdout",
     "output_type": "stream",
     "text": [
      "[1, 2, 3, 7, 9]\n"
     ]
    }
   ],
   "source": [
    "print(arr)"
   ]
  },
  {
   "cell_type": "markdown",
   "id": "a971a203",
   "metadata": {},
   "source": [
    "### Index(x)\n",
    "\n",
    "Returns the first index of value in the list. Throws an error if it's not found"
   ]
  },
  {
   "cell_type": "code",
   "execution_count": 42,
   "id": "ebd90e51",
   "metadata": {},
   "outputs": [
    {
     "data": {
      "text/plain": [
       "4"
      ]
     },
     "execution_count": 42,
     "metadata": {},
     "output_type": "execute_result"
    }
   ],
   "source": [
    "arr.index(9)"
   ]
  },
  {
   "cell_type": "code",
   "execution_count": null,
   "id": "92e244ba",
   "metadata": {},
   "outputs": [],
   "source": []
  },
  {
   "cell_type": "markdown",
   "id": "ef95129f",
   "metadata": {},
   "source": [
    "### Count(x)\n",
    "\n",
    "Counts the number of occurences of an element x"
   ]
  },
  {
   "cell_type": "code",
   "execution_count": 44,
   "id": "15787b05",
   "metadata": {},
   "outputs": [],
   "source": [
    "a = [2,1,1,1,3,5,4]"
   ]
  },
  {
   "cell_type": "code",
   "execution_count": 45,
   "id": "6d561030",
   "metadata": {},
   "outputs": [
    {
     "data": {
      "text/plain": [
       "3"
      ]
     },
     "execution_count": 45,
     "metadata": {},
     "output_type": "execute_result"
    }
   ],
   "source": [
    "a.count(1)"
   ]
  },
  {
   "cell_type": "markdown",
   "id": "d0058811",
   "metadata": {},
   "source": [
    "### Sort\n",
    "\n",
    "Sorts the list"
   ]
  },
  {
   "cell_type": "code",
   "execution_count": 53,
   "id": "ab212b64",
   "metadata": {},
   "outputs": [],
   "source": [
    "a.sort() #ascending"
   ]
  },
  {
   "cell_type": "code",
   "execution_count": 55,
   "id": "2ccf39af",
   "metadata": {},
   "outputs": [
    {
     "data": {
      "text/plain": [
       "[1, 1, 1, 2, 3, 4, 5]"
      ]
     },
     "execution_count": 55,
     "metadata": {},
     "output_type": "execute_result"
    }
   ],
   "source": [
    "a"
   ]
  },
  {
   "cell_type": "code",
   "execution_count": 58,
   "id": "88a21fdb",
   "metadata": {},
   "outputs": [],
   "source": [
    "a.sort(reverse=True) #descending"
   ]
  },
  {
   "cell_type": "code",
   "execution_count": 59,
   "id": "a09858ee",
   "metadata": {},
   "outputs": [
    {
     "data": {
      "text/plain": [
       "[5, 4, 3, 2, 1, 1, 1]"
      ]
     },
     "execution_count": 59,
     "metadata": {},
     "output_type": "execute_result"
    }
   ],
   "source": [
    "a"
   ]
  },
  {
   "cell_type": "markdown",
   "id": "ae1edb05",
   "metadata": {},
   "source": [
    "### Reverse()\n",
    "\n",
    "Reverses the list"
   ]
  },
  {
   "cell_type": "code",
   "execution_count": 60,
   "id": "ea049487",
   "metadata": {},
   "outputs": [],
   "source": [
    "a.reverse()"
   ]
  },
  {
   "cell_type": "code",
   "execution_count": 61,
   "id": "dc23998a",
   "metadata": {},
   "outputs": [
    {
     "data": {
      "text/plain": [
       "[1, 1, 1, 2, 3, 4, 5]"
      ]
     },
     "execution_count": 61,
     "metadata": {},
     "output_type": "execute_result"
    }
   ],
   "source": [
    "a"
   ]
  },
  {
   "cell_type": "markdown",
   "id": "b33b770a",
   "metadata": {},
   "source": [
    "Task"
   ]
  },
  {
   "cell_type": "code",
   "execution_count": 62,
   "id": "d1ac3644",
   "metadata": {},
   "outputs": [],
   "source": [
    "z = [1, 3.5, 5, 5.7, 7, 'DS', 'DA', 'DE', True, False]"
   ]
  },
  {
   "cell_type": "code",
   "execution_count": 63,
   "id": "518e6ffe",
   "metadata": {},
   "outputs": [
    {
     "data": {
      "text/plain": [
       "[1, 3.5, 5, 5.7, 7, 'DS', 'DA', 'DE', True, False]"
      ]
     },
     "execution_count": 63,
     "metadata": {},
     "output_type": "execute_result"
    }
   ],
   "source": [
    "z"
   ]
  },
  {
   "cell_type": "code",
   "execution_count": 65,
   "id": "3d3077a7",
   "metadata": {},
   "outputs": [],
   "source": [
    "z.remove(5.7)"
   ]
  },
  {
   "cell_type": "code",
   "execution_count": 66,
   "id": "c2dfa26b",
   "metadata": {},
   "outputs": [
    {
     "data": {
      "text/plain": [
       "[1, 3.5, 5, 7, 'DS', 'DA', 'DE', True, False]"
      ]
     },
     "execution_count": 66,
     "metadata": {},
     "output_type": "execute_result"
    }
   ],
   "source": [
    "z"
   ]
  },
  {
   "cell_type": "code",
   "execution_count": 68,
   "id": "ebf03a1e",
   "metadata": {},
   "outputs": [
    {
     "data": {
      "text/plain": [
       "False"
      ]
     },
     "execution_count": 68,
     "metadata": {},
     "output_type": "execute_result"
    }
   ],
   "source": [
    "z.pop()"
   ]
  },
  {
   "cell_type": "code",
   "execution_count": 69,
   "id": "f54ee247",
   "metadata": {},
   "outputs": [
    {
     "data": {
      "text/plain": [
       "[1, 3.5, 5, 7, 'DS', 'DA', 'DE', True]"
      ]
     },
     "execution_count": 69,
     "metadata": {},
     "output_type": "execute_result"
    }
   ],
   "source": [
    "z"
   ]
  },
  {
   "cell_type": "code",
   "execution_count": 70,
   "id": "5653bec0",
   "metadata": {},
   "outputs": [
    {
     "data": {
      "text/plain": [
       "0"
      ]
     },
     "execution_count": 70,
     "metadata": {},
     "output_type": "execute_result"
    }
   ],
   "source": [
    "z.index(1)"
   ]
  },
  {
   "cell_type": "code",
   "execution_count": 72,
   "id": "a82cda49",
   "metadata": {},
   "outputs": [
    {
     "data": {
      "text/plain": [
       "1"
      ]
     },
     "execution_count": 72,
     "metadata": {},
     "output_type": "execute_result"
    }
   ],
   "source": [
    "z.count('DA')"
   ]
  },
  {
   "cell_type": "code",
   "execution_count": 83,
   "id": "924e9658",
   "metadata": {},
   "outputs": [
    {
     "ename": "TypeError",
     "evalue": "'<' not supported between instances of 'str' and 'bool'",
     "output_type": "error",
     "traceback": [
      "\u001b[1;31m---------------------------------------------------------------------------\u001b[0m",
      "\u001b[1;31mTypeError\u001b[0m                                 Traceback (most recent call last)",
      "\u001b[1;32m<ipython-input-83-4f4c33895572>\u001b[0m in \u001b[0;36m<module>\u001b[1;34m\u001b[0m\n\u001b[1;32m----> 1\u001b[1;33m \u001b[0mz\u001b[0m\u001b[1;33m.\u001b[0m\u001b[0msort\u001b[0m\u001b[1;33m(\u001b[0m\u001b[1;33m)\u001b[0m\u001b[1;33m\u001b[0m\u001b[1;33m\u001b[0m\u001b[0m\n\u001b[0m",
      "\u001b[1;31mTypeError\u001b[0m: '<' not supported between instances of 'str' and 'bool'"
     ]
    }
   ],
   "source": [
    "z.sort()"
   ]
  },
  {
   "cell_type": "markdown",
   "id": "6296955b",
   "metadata": {},
   "source": [
    "tidak bisa sort karena tipe datanya tidak sama (ada data string dan boolean)"
   ]
  },
  {
   "cell_type": "code",
   "execution_count": 79,
   "id": "a2d0850f",
   "metadata": {},
   "outputs": [],
   "source": [
    "zz = [1,5,3,7,4]"
   ]
  },
  {
   "cell_type": "code",
   "execution_count": 81,
   "id": "03d769a8",
   "metadata": {},
   "outputs": [],
   "source": [
    "zz.sort()"
   ]
  },
  {
   "cell_type": "code",
   "execution_count": 82,
   "id": "927db351",
   "metadata": {},
   "outputs": [
    {
     "data": {
      "text/plain": [
       "[1, 3, 4, 5, 7]"
      ]
     },
     "execution_count": 82,
     "metadata": {},
     "output_type": "execute_result"
    }
   ],
   "source": [
    "zz"
   ]
  },
  {
   "cell_type": "code",
   "execution_count": 74,
   "id": "0d1a5c46",
   "metadata": {},
   "outputs": [],
   "source": [
    "z.reverse()"
   ]
  },
  {
   "cell_type": "code",
   "execution_count": 75,
   "id": "79e49040",
   "metadata": {},
   "outputs": [
    {
     "data": {
      "text/plain": [
       "[True, 'DE', 'DA', 'DS', 7, 5, 3.5, 1]"
      ]
     },
     "execution_count": 75,
     "metadata": {},
     "output_type": "execute_result"
    }
   ],
   "source": [
    "z"
   ]
  },
  {
   "cell_type": "code",
   "execution_count": null,
   "id": "80acc8c2",
   "metadata": {},
   "outputs": [],
   "source": []
  }
 ],
 "metadata": {
  "kernelspec": {
   "display_name": "Python 3",
   "language": "python",
   "name": "python3"
  },
  "language_info": {
   "codemirror_mode": {
    "name": "ipython",
    "version": 3
   },
   "file_extension": ".py",
   "mimetype": "text/x-python",
   "name": "python",
   "nbconvert_exporter": "python",
   "pygments_lexer": "ipython3",
   "version": "3.8.8"
  }
 },
 "nbformat": 4,
 "nbformat_minor": 5
}
