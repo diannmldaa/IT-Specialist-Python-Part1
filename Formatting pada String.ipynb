{
 "cells": [
  {
   "cell_type": "markdown",
   "id": "63ec4358",
   "metadata": {},
   "source": [
    "#### zfill()\n",
    "\n",
    "- metode yang dapat menambahkan nilai numerik berupa 0 di sebelah kiri sebuah angka atau string menggunakan metode zfill()\n",
    "- penggunaan metode zfill() ini bisa diterapkan untuk nomor nota atau nomor antrian\n",
    "- jumlah karakter harus kurang dari atau sama dengan value zfill tersebut"
   ]
  },
  {
   "cell_type": "code",
   "execution_count": 1,
   "id": "35a494fc",
   "metadata": {},
   "outputs": [],
   "source": [
    "a = 7"
   ]
  },
  {
   "cell_type": "code",
   "execution_count": 3,
   "id": "b9711f69",
   "metadata": {},
   "outputs": [
    {
     "data": {
      "text/plain": [
       "'007'"
      ]
     },
     "execution_count": 3,
     "metadata": {},
     "output_type": "execute_result"
    }
   ],
   "source": [
    "str(a).zfill(3)"
   ]
  },
  {
   "cell_type": "code",
   "execution_count": 4,
   "id": "3b83c2b7",
   "metadata": {},
   "outputs": [],
   "source": [
    "b = '200'"
   ]
  },
  {
   "cell_type": "code",
   "execution_count": 5,
   "id": "d90eeaa1",
   "metadata": {},
   "outputs": [
    {
     "data": {
      "text/plain": [
       "'00200'"
      ]
     },
     "execution_count": 5,
     "metadata": {},
     "output_type": "execute_result"
    }
   ],
   "source": [
    "b.zfill(5)"
   ]
  },
  {
   "cell_type": "code",
   "execution_count": 20,
   "id": "9cc8aca1",
   "metadata": {},
   "outputs": [],
   "source": [
    "c = -0.25"
   ]
  },
  {
   "cell_type": "code",
   "execution_count": 26,
   "id": "224b33b3",
   "metadata": {},
   "outputs": [
    {
     "data": {
      "text/plain": [
       "'-0.25'"
      ]
     },
     "execution_count": 26,
     "metadata": {},
     "output_type": "execute_result"
    }
   ],
   "source": [
    "str(c).zfill(5)"
   ]
  },
  {
   "cell_type": "code",
   "execution_count": 24,
   "id": "fff144ea",
   "metadata": {},
   "outputs": [],
   "source": [
    "d = -0.25"
   ]
  },
  {
   "cell_type": "code",
   "execution_count": 25,
   "id": "c09a053b",
   "metadata": {},
   "outputs": [
    {
     "data": {
      "text/plain": [
       "'-000.25'"
      ]
     },
     "execution_count": 25,
     "metadata": {},
     "output_type": "execute_result"
    }
   ],
   "source": [
    "str(d).zfill(7)"
   ]
  },
  {
   "cell_type": "markdown",
   "id": "483dba9a",
   "metadata": {},
   "source": [
    "Penerapan zfill pada String"
   ]
  },
  {
   "cell_type": "code",
   "execution_count": 11,
   "id": "ee01b803",
   "metadata": {},
   "outputs": [],
   "source": [
    "a = 'dia'"
   ]
  },
  {
   "cell_type": "code",
   "execution_count": 12,
   "id": "d3a782b3",
   "metadata": {},
   "outputs": [
    {
     "data": {
      "text/plain": [
       "'000dia'"
      ]
     },
     "execution_count": 12,
     "metadata": {},
     "output_type": "execute_result"
    }
   ],
   "source": [
    "a.zfill(6)"
   ]
  },
  {
   "cell_type": "code",
   "execution_count": 13,
   "id": "925b5609",
   "metadata": {},
   "outputs": [],
   "source": [
    "b = 'bukan'"
   ]
  },
  {
   "cell_type": "code",
   "execution_count": 14,
   "id": "2d2045e6",
   "metadata": {},
   "outputs": [
    {
     "data": {
      "text/plain": [
       "'0bukan'"
      ]
     },
     "execution_count": 14,
     "metadata": {},
     "output_type": "execute_result"
    }
   ],
   "source": [
    "b.zfill(6)"
   ]
  },
  {
   "cell_type": "code",
   "execution_count": 15,
   "id": "20680d6e",
   "metadata": {},
   "outputs": [],
   "source": [
    "c = 'untukmu'"
   ]
  },
  {
   "cell_type": "code",
   "execution_count": 17,
   "id": "d36811e5",
   "metadata": {},
   "outputs": [
    {
     "data": {
      "text/plain": [
       "'untukmu'"
      ]
     },
     "execution_count": 17,
     "metadata": {},
     "output_type": "execute_result"
    }
   ],
   "source": [
    "c.zfill(6)"
   ]
  },
  {
   "cell_type": "markdown",
   "id": "4244858d",
   "metadata": {},
   "source": [
    "Task"
   ]
  },
  {
   "cell_type": "code",
   "execution_count": 33,
   "id": "986cca86",
   "metadata": {},
   "outputs": [],
   "source": [
    "x = 1958\n",
    "y = -16.7\n",
    "z = 'sarapan'"
   ]
  },
  {
   "cell_type": "code",
   "execution_count": 34,
   "id": "e7dd0057",
   "metadata": {},
   "outputs": [
    {
     "data": {
      "text/plain": [
       "'01958'"
      ]
     },
     "execution_count": 34,
     "metadata": {},
     "output_type": "execute_result"
    }
   ],
   "source": [
    "str(x).zfill(5)"
   ]
  },
  {
   "cell_type": "code",
   "execution_count": 36,
   "id": "c44c9af2",
   "metadata": {},
   "outputs": [
    {
     "data": {
      "text/plain": [
       "'-016.7'"
      ]
     },
     "execution_count": 36,
     "metadata": {},
     "output_type": "execute_result"
    }
   ],
   "source": [
    "str(y).zfill(6)"
   ]
  },
  {
   "cell_type": "code",
   "execution_count": 37,
   "id": "92ca1341",
   "metadata": {},
   "outputs": [
    {
     "data": {
      "text/plain": [
       "'000sarapan'"
      ]
     },
     "execution_count": 37,
     "metadata": {},
     "output_type": "execute_result"
    }
   ],
   "source": [
    "z.zfill(10)"
   ]
  },
  {
   "cell_type": "markdown",
   "id": "2df5c7f5",
   "metadata": {},
   "source": [
    "#### rjust()\n",
    "\n",
    "- Metode rjust() digunakan untuk membuat teks rata kanan\n",
    "- Metode ini akan menambahkan spasi pada string untuk membuatnya sesuai\n",
    "- Parameternya berupa integer yang merupakan panjang teks secara keseluruhan (bukan jumlah spasi yang ditambahkan)"
   ]
  },
  {
   "cell_type": "code",
   "execution_count": 41,
   "id": "98930a12",
   "metadata": {},
   "outputs": [
    {
     "data": {
      "text/plain": [
       "'Data'"
      ]
     },
     "execution_count": 41,
     "metadata": {},
     "output_type": "execute_result"
    }
   ],
   "source": [
    "'Data'.rjust(4)"
   ]
  },
  {
   "cell_type": "markdown",
   "id": "dffd5fae",
   "metadata": {},
   "source": [
    "#### ljust()\n",
    "\n",
    "- Metode ljust() digunakan untuk membuat teks rata kiri\n",
    "- Metode ini akan menambahkan spasi pada string untuk membuatnya sesuai\n",
    "- Parameternya berupa integer yang merupakan panjang teks secara keseluruhan (bukan jumlah spasi yang ditambahkan)"
   ]
  },
  {
   "cell_type": "code",
   "execution_count": 42,
   "id": "b6ee6182",
   "metadata": {},
   "outputs": [
    {
     "data": {
      "text/plain": [
       "'Data      '"
      ]
     },
     "execution_count": 42,
     "metadata": {},
     "output_type": "execute_result"
    }
   ],
   "source": [
    "'Data'.ljust(10)"
   ]
  },
  {
   "cell_type": "markdown",
   "id": "ecb716e2",
   "metadata": {},
   "source": [
    "#### center()\n",
    "\n",
    "- Metode center(), seperti namanya akan membuat teks menjadi rata tengah"
   ]
  },
  {
   "cell_type": "code",
   "execution_count": 43,
   "id": "676cb925",
   "metadata": {},
   "outputs": [
    {
     "data": {
      "text/plain": [
       "'   Data   '"
      ]
     },
     "execution_count": 43,
     "metadata": {},
     "output_type": "execute_result"
    }
   ],
   "source": [
    "'Data'.center(10)"
   ]
  },
  {
   "cell_type": "code",
   "execution_count": 46,
   "id": "b76b3a60",
   "metadata": {},
   "outputs": [
    {
     "data": {
      "text/plain": [
       "'---Data---'"
      ]
     },
     "execution_count": 46,
     "metadata": {},
     "output_type": "execute_result"
    }
   ],
   "source": [
    "'Data'.center(10,'-')"
   ]
  },
  {
   "cell_type": "markdown",
   "id": "5ce3a23e",
   "metadata": {},
   "source": [
    "#### Escape character \n",
    "\n",
    "Escape character yaitu backslash yang memungkinkan Anda untuk memasukka karakter ' dan \" dalam bagian string."
   ]
  },
  {
   "cell_type": "code",
   "execution_count": 49,
   "id": "264d959a",
   "metadata": {},
   "outputs": [
    {
     "data": {
      "text/plain": [
       "\"Jum'at\""
      ]
     },
     "execution_count": 49,
     "metadata": {},
     "output_type": "execute_result"
    }
   ],
   "source": [
    "'Jum\\'at'"
   ]
  },
  {
   "cell_type": "code",
   "execution_count": 50,
   "id": "2d05a2e6",
   "metadata": {},
   "outputs": [
    {
     "data": {
      "text/plain": [
       "'Jum\"at'"
      ]
     },
     "execution_count": 50,
     "metadata": {},
     "output_type": "execute_result"
    }
   ],
   "source": [
    "'Jum\\\"at'"
   ]
  },
  {
   "cell_type": "markdown",
   "id": "4e8941e7",
   "metadata": {},
   "source": [
    "#### Raw tring\n",
    "\n",
    "Python juga menyediakan cara untuk mencetak string sesuai dengan apapun input atau teks yang diberikan.\n",
    "Untuk mengimplementasikan raw strings, sisipkan huruf r sebelum pembuka string."
   ]
  },
  {
   "cell_type": "code",
   "execution_count": 52,
   "id": "e4194fe6",
   "metadata": {},
   "outputs": [
    {
     "name": "stdout",
     "output_type": "stream",
     "text": [
      "Data\\Science\n"
     ]
    }
   ],
   "source": [
    "print(r'Data\\Science')"
   ]
  },
  {
   "cell_type": "code",
   "execution_count": 53,
   "id": "85f970cc",
   "metadata": {},
   "outputs": [
    {
     "name": "stdout",
     "output_type": "stream",
     "text": [
      "Data\n",
      "Science\n"
     ]
    }
   ],
   "source": [
    "print('Data\\nScience')"
   ]
  },
  {
   "cell_type": "markdown",
   "id": "9cf2a8ee",
   "metadata": {},
   "source": [
    "Task"
   ]
  },
  {
   "cell_type": "markdown",
   "id": "24fa8390",
   "metadata": {},
   "source": [
    "A'yuni punya kucing kesayangan bernama Miu. Miu dan A'yuni bertemu di jalan dalam keadaan yang menyedihkan. Miu yang masih berusia 3 bulan saat itu tubuhnya dipenuhi lumpur, berjamur, kurus dan kutuan. A'yuni merasa sangat iba lalu memutuskan membawa Miu pulang ke rumah. Tentu ayah dan ibunya membolehkan A'yuni memelihara Miu dengan syarat A'yuni harus bertanggung jawab."
   ]
  },
  {
   "cell_type": "code",
   "execution_count": 58,
   "id": "ed491fb6",
   "metadata": {},
   "outputs": [
    {
     "name": "stdout",
     "output_type": "stream",
     "text": [
      "                            A'yuni punya kucing kesayangan bernama Miu.                             \n",
      "Miu dan A'yuni bertemu di jalan dalam keadaan yang menyedihkan. Miu yang masih berusia 3 bulan saat itu tubuhnya dipenuhi lumpur, berjamur, kurus dan kutuan. A'yuni merasa sangat iba lalu memutuskan membawa Miu pulang ke rumah.\n",
      "Tentu ayah dan ibunya membolehkan A'yuni memelihara Miu dengan syarat A'yuni harus bertanggung jawab.\n"
     ]
    }
   ],
   "source": [
    "print('A\\'yuni punya kucing kesayangan bernama Miu.'.center(100))\n",
    "print('Miu dan A\\'yuni bertemu di jalan dalam keadaan yang menyedihkan. Miu yang masih berusia 3 bulan saat itu tubuhnya dipenuhi lumpur, berjamur, kurus dan kutuan. A\\'yuni merasa sangat iba lalu memutuskan membawa Miu pulang ke rumah.'.ljust(100))\n",
    "print('Tentu ayah dan ibunya membolehkan A\\'yuni memelihara Miu dengan syarat A\\'yuni harus bertanggung jawab.'.rjust(100))"
   ]
  },
  {
   "cell_type": "markdown",
   "id": "84be8354",
   "metadata": {},
   "source": [
    "#### String Literals\n",
    "\n",
    "- "
   ]
  },
  {
   "cell_type": "code",
   "execution_count": null,
   "id": "db1081b7",
   "metadata": {},
   "outputs": [],
   "source": []
  }
 ],
 "metadata": {
  "kernelspec": {
   "display_name": "Python 3",
   "language": "python",
   "name": "python3"
  },
  "language_info": {
   "codemirror_mode": {
    "name": "ipython",
    "version": 3
   },
   "file_extension": ".py",
   "mimetype": "text/x-python",
   "name": "python",
   "nbconvert_exporter": "python",
   "pygments_lexer": "ipython3",
   "version": "3.8.8"
  }
 },
 "nbformat": 4,
 "nbformat_minor": 5
}
