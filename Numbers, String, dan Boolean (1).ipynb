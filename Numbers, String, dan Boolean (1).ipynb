{
 "cells": [
  {
   "cell_type": "code",
   "execution_count": 8,
   "id": "9e670501",
   "metadata": {},
   "outputs": [
    {
     "name": "stdout",
     "output_type": "stream",
     "text": [
      "Hello World!\n"
     ]
    }
   ],
   "source": [
    "print(\"Hello World!\")"
   ]
  },
  {
   "cell_type": "markdown",
   "id": "d4d2b419",
   "metadata": {},
   "source": [
    "Tipe data bawaan yang ada di Python 3:\n",
    "1. Numbers\n",
    "2. String\n",
    "3. Boolean"
   ]
  },
  {
   "cell_type": "markdown",
   "id": "a97bd7b6",
   "metadata": {},
   "source": [
    "1. Numbers\n",
    "   - Tipe numerik pada Python dibagi menjadi 3; int, float, complex"
   ]
  },
  {
   "cell_type": "code",
   "execution_count": 4,
   "id": "3137b3ce",
   "metadata": {},
   "outputs": [],
   "source": [
    "a = 10"
   ]
  },
  {
   "cell_type": "code",
   "execution_count": 5,
   "id": "6c9d45a3",
   "metadata": {},
   "outputs": [
    {
     "data": {
      "text/plain": [
       "int"
      ]
     },
     "execution_count": 5,
     "metadata": {},
     "output_type": "execute_result"
    }
   ],
   "source": [
    "type(a)"
   ]
  },
  {
   "cell_type": "code",
   "execution_count": 6,
   "id": "d54ddc13",
   "metadata": {},
   "outputs": [],
   "source": [
    "b = 1.7"
   ]
  },
  {
   "cell_type": "code",
   "execution_count": 7,
   "id": "47f2b729",
   "metadata": {},
   "outputs": [
    {
     "data": {
      "text/plain": [
       "float"
      ]
     },
     "execution_count": 7,
     "metadata": {},
     "output_type": "execute_result"
    }
   ],
   "source": [
    "type(b)"
   ]
  },
  {
   "cell_type": "markdown",
   "id": "192e459c",
   "metadata": {},
   "source": [
    "Yang membedakan integer dan float adalah titik (decimal points)"
   ]
  },
  {
   "cell_type": "code",
   "execution_count": 9,
   "id": "61c53d80",
   "metadata": {},
   "outputs": [],
   "source": [
    "a = 1"
   ]
  },
  {
   "cell_type": "code",
   "execution_count": 10,
   "id": "15bd91f5",
   "metadata": {},
   "outputs": [
    {
     "data": {
      "text/plain": [
       "int"
      ]
     },
     "execution_count": 10,
     "metadata": {},
     "output_type": "execute_result"
    }
   ],
   "source": [
    "type(a)"
   ]
  },
  {
   "cell_type": "code",
   "execution_count": 11,
   "id": "7a50f037",
   "metadata": {},
   "outputs": [],
   "source": [
    "b = 1.0"
   ]
  },
  {
   "cell_type": "code",
   "execution_count": 12,
   "id": "2ccec05b",
   "metadata": {},
   "outputs": [
    {
     "data": {
      "text/plain": [
       "float"
      ]
     },
     "execution_count": 12,
     "metadata": {},
     "output_type": "execute_result"
    }
   ],
   "source": [
    "type(b)"
   ]
  },
  {
   "cell_type": "code",
   "execution_count": 13,
   "id": "b4d09f56",
   "metadata": {},
   "outputs": [
    {
     "name": "stdout",
     "output_type": "stream",
     "text": [
      "1\n",
      "2\n"
     ]
    }
   ],
   "source": [
    "a1 = 1\n",
    "a2 = 2\n",
    "\n",
    "print(a1)\n",
    "print(a2)"
   ]
  },
  {
   "cell_type": "code",
   "execution_count": 14,
   "id": "994972e1",
   "metadata": {},
   "outputs": [
    {
     "data": {
      "text/plain": [
       "1"
      ]
     },
     "execution_count": 14,
     "metadata": {},
     "output_type": "execute_result"
    }
   ],
   "source": [
    "a1"
   ]
  },
  {
   "cell_type": "code",
   "execution_count": 15,
   "id": "733c8d58",
   "metadata": {},
   "outputs": [
    {
     "data": {
      "text/plain": [
       "int"
      ]
     },
     "execution_count": 15,
     "metadata": {},
     "output_type": "execute_result"
    }
   ],
   "source": [
    "type(a1)"
   ]
  },
  {
   "cell_type": "markdown",
   "id": "ee0bae4d",
   "metadata": {},
   "source": [
    "Karena Python banyak digunakan juga oleh matematikawan, tipe bilangan di Python juga mendukung bilangan imajiner  dan bilangan kompleks. Nilai bilangan kompleks dituliskan dalam formulasi x+yj, yakni bilangan real dan y adalah bilangan imajiner. Contohnya adalah sebagai berikut."
   ]
  },
  {
   "cell_type": "code",
   "execution_count": 17,
   "id": "02585468",
   "metadata": {},
   "outputs": [],
   "source": [
    "c = 1+2j"
   ]
  },
  {
   "cell_type": "code",
   "execution_count": 18,
   "id": "767511de",
   "metadata": {},
   "outputs": [
    {
     "data": {
      "text/plain": [
       "complex"
      ]
     },
     "execution_count": 18,
     "metadata": {},
     "output_type": "execute_result"
    }
   ],
   "source": [
    "type(c)"
   ]
  },
  {
   "cell_type": "markdown",
   "id": "df70caed",
   "metadata": {},
   "source": [
    "3 tipe data: int, float, complex"
   ]
  },
  {
   "cell_type": "code",
   "execution_count": 19,
   "id": "7cca9c8b",
   "metadata": {},
   "outputs": [
    {
     "name": "stdout",
     "output_type": "stream",
     "text": [
      "<class 'int'>\n",
      "<class 'float'>\n",
      "<class 'complex'>\n"
     ]
    }
   ],
   "source": [
    "x = 1000\n",
    "y = 50.75\n",
    "z = 25+2j\n",
    "\n",
    "print(type(x))\n",
    "print(type(y))\n",
    "print(type(z))"
   ]
  },
  {
   "cell_type": "code",
   "execution_count": 21,
   "id": "49153e92",
   "metadata": {},
   "outputs": [
    {
     "name": "stdout",
     "output_type": "stream",
     "text": [
      "<class 'int'> <class 'float'> <class 'complex'>\n"
     ]
    }
   ],
   "source": [
    "print(type(x), \n",
    "      type(y), \n",
    "      type(z))"
   ]
  },
  {
   "cell_type": "markdown",
   "id": "59b485b8",
   "metadata": {},
   "source": [
    "2. String"
   ]
  },
  {
   "cell_type": "code",
   "execution_count": 27,
   "id": "f237ddf5",
   "metadata": {},
   "outputs": [],
   "source": [
    "a = \"Hello World\""
   ]
  },
  {
   "cell_type": "code",
   "execution_count": 28,
   "id": "6bc696d4",
   "metadata": {},
   "outputs": [
    {
     "name": "stdout",
     "output_type": "stream",
     "text": [
      "Hello World\n"
     ]
    }
   ],
   "source": [
    "print(a)"
   ]
  },
  {
   "cell_type": "code",
   "execution_count": 29,
   "id": "18af01b6",
   "metadata": {},
   "outputs": [],
   "source": [
    "b = \"\"\"Bootcamp Data Science\n",
    "Kampus Merdeka X MyEduSolve\n",
    "Kelas B\"\"\""
   ]
  },
  {
   "cell_type": "code",
   "execution_count": 30,
   "id": "6c35cdc6",
   "metadata": {},
   "outputs": [
    {
     "name": "stdout",
     "output_type": "stream",
     "text": [
      "Bootcamp Data Science\n",
      "Kampus Merdeka X MyEduSolve\n",
      "Kelas B\n"
     ]
    }
   ],
   "source": [
    "print(b)"
   ]
  },
  {
   "cell_type": "code",
   "execution_count": 31,
   "id": "c48ed147",
   "metadata": {},
   "outputs": [],
   "source": [
    "c = \"Bootcamp Data Science.\\nKampus Merdeka X MyEduSolve.\\nKelas B\""
   ]
  },
  {
   "cell_type": "code",
   "execution_count": 32,
   "id": "10012c55",
   "metadata": {},
   "outputs": [
    {
     "name": "stdout",
     "output_type": "stream",
     "text": [
      "Bootcamp Data Science.\n",
      "Kampus Merdeka X MyEduSolve.\n",
      "Kelas B\n"
     ]
    }
   ],
   "source": [
    "print(c)"
   ]
  },
  {
   "cell_type": "code",
   "execution_count": 33,
   "id": "d44176d4",
   "metadata": {},
   "outputs": [
    {
     "data": {
      "text/plain": [
       "\"I'am\""
      ]
     },
     "execution_count": 33,
     "metadata": {},
     "output_type": "execute_result"
    }
   ],
   "source": [
    "'I\\'am'"
   ]
  },
  {
   "cell_type": "code",
   "execution_count": 34,
   "id": "4751149d",
   "metadata": {},
   "outputs": [
    {
     "data": {
      "text/plain": [
       "\"I'am\""
      ]
     },
     "execution_count": 34,
     "metadata": {},
     "output_type": "execute_result"
    }
   ],
   "source": [
    "\"I'am\""
   ]
  },
  {
   "cell_type": "markdown",
   "id": "713c2915",
   "metadata": {},
   "source": [
    "3. Bool/Boolean"
   ]
  },
  {
   "cell_type": "code",
   "execution_count": 42,
   "id": "c13ba25a",
   "metadata": {},
   "outputs": [
    {
     "data": {
      "text/plain": [
       "False"
      ]
     },
     "execution_count": 42,
     "metadata": {},
     "output_type": "execute_result"
    }
   ],
   "source": [
    "2 > 5"
   ]
  },
  {
   "cell_type": "code",
   "execution_count": 16,
   "id": "e59a35a4",
   "metadata": {},
   "outputs": [
    {
     "data": {
      "text/plain": [
       "False"
      ]
     },
     "execution_count": 16,
     "metadata": {},
     "output_type": "execute_result"
    }
   ],
   "source": [
    "2 == 5"
   ]
  },
  {
   "cell_type": "code",
   "execution_count": 17,
   "id": "7333ce72",
   "metadata": {},
   "outputs": [
    {
     "data": {
      "text/plain": [
       "True"
      ]
     },
     "execution_count": 17,
     "metadata": {},
     "output_type": "execute_result"
    }
   ],
   "source": [
    "2 <= 2"
   ]
  },
  {
   "cell_type": "code",
   "execution_count": 18,
   "id": "f7571db1",
   "metadata": {},
   "outputs": [
    {
     "data": {
      "text/plain": [
       "True"
      ]
     },
     "execution_count": 18,
     "metadata": {},
     "output_type": "execute_result"
    }
   ],
   "source": [
    "2 != 3"
   ]
  },
  {
   "cell_type": "code",
   "execution_count": 50,
   "id": "e13a1182",
   "metadata": {},
   "outputs": [
    {
     "name": "stdout",
     "output_type": "stream",
     "text": [
      "Dian Maulida\n"
     ]
    }
   ],
   "source": [
    "#task\n",
    "\n",
    "x = 'Dian Maulida'\n",
    "print(x)"
   ]
  },
  {
   "cell_type": "code",
   "execution_count": 51,
   "id": "76d13593",
   "metadata": {},
   "outputs": [
    {
     "name": "stdout",
     "output_type": "stream",
     "text": [
      "Dian Maulida\n",
      "Blora\n",
      "Statistika\n",
      "Universitas Diponegoro\n"
     ]
    }
   ],
   "source": [
    "y = \"\"\"Dian Maulida\n",
    "Blora\n",
    "Statistika\n",
    "Universitas Diponegoro\"\"\"\n",
    "print(y)"
   ]
  },
  {
   "cell_type": "code",
   "execution_count": 52,
   "id": "6abc86d2",
   "metadata": {},
   "outputs": [
    {
     "data": {
      "text/plain": [
       "True"
      ]
     },
     "execution_count": 52,
     "metadata": {},
     "output_type": "execute_result"
    }
   ],
   "source": [
    "125 != 325"
   ]
  },
  {
   "cell_type": "code",
   "execution_count": null,
   "id": "d1965adf",
   "metadata": {},
   "outputs": [],
   "source": []
  }
 ],
 "metadata": {
  "kernelspec": {
   "display_name": "Python 3",
   "language": "python",
   "name": "python3"
  },
  "language_info": {
   "codemirror_mode": {
    "name": "ipython",
    "version": 3
   },
   "file_extension": ".py",
   "mimetype": "text/x-python",
   "name": "python",
   "nbconvert_exporter": "python",
   "pygments_lexer": "ipython3",
   "version": "3.8.8"
  }
 },
 "nbformat": 4,
 "nbformat_minor": 5
}
