{
 "cells": [
  {
   "cell_type": "markdown",
   "id": "62b3592f",
   "metadata": {},
   "source": [
    "### Mengganti Elemen String"
   ]
  },
  {
   "cell_type": "markdown",
   "id": "064337cf",
   "metadata": {},
   "source": [
    "#### replace()\n",
    "\n",
    "Metode replace() dapat mengembalikan string baru dalam kondisi substring telah tergantikan dengan parameter yang dimasukkan."
   ]
  },
  {
   "cell_type": "code",
   "execution_count": 6,
   "id": "aea71160",
   "metadata": {},
   "outputs": [],
   "source": [
    "a = 'Hari ini hujan'"
   ]
  },
  {
   "cell_type": "code",
   "execution_count": 7,
   "id": "90192b78",
   "metadata": {},
   "outputs": [
    {
     "name": "stdout",
     "output_type": "stream",
     "text": [
      "Hari ini cerah\n"
     ]
    }
   ],
   "source": [
    "print(a.replace('hujan', 'cerah'))"
   ]
  },
  {
   "cell_type": "markdown",
   "id": "d9aeca64",
   "metadata": {},
   "source": [
    "Parameter ketiga pada replace dapat diisi jumlah substring yang ingin diganti"
   ]
  },
  {
   "cell_type": "code",
   "execution_count": 8,
   "id": "37bd5ce8",
   "metadata": {},
   "outputs": [],
   "source": [
    "b = 'Hari ini hujan dan saya membawa jas hujan'"
   ]
  },
  {
   "cell_type": "code",
   "execution_count": 9,
   "id": "7d065f1f",
   "metadata": {},
   "outputs": [
    {
     "name": "stdout",
     "output_type": "stream",
     "text": [
      "Hari ini mendung dan saya membawa jas hujan\n"
     ]
    }
   ],
   "source": [
    "print(b.replace('hujan', 'mendung', 1))"
   ]
  },
  {
   "cell_type": "markdown",
   "id": "abf87aaf",
   "metadata": {},
   "source": [
    "Task"
   ]
  },
  {
   "cell_type": "code",
   "execution_count": 13,
   "id": "5103024a",
   "metadata": {},
   "outputs": [],
   "source": [
    "x = 'Hari ini saya akan belajar mata kuliah Statistika Multivariat'"
   ]
  },
  {
   "cell_type": "code",
   "execution_count": 15,
   "id": "feb3fd3f",
   "metadata": {},
   "outputs": [
    {
     "name": "stdout",
     "output_type": "stream",
     "text": [
      "Hari ini saya akan belajar mata kuliah Statistika Multivariat\n"
     ]
    }
   ],
   "source": [
    "print(x)"
   ]
  },
  {
   "cell_type": "code",
   "execution_count": 16,
   "id": "d99ccfef",
   "metadata": {},
   "outputs": [
    {
     "name": "stdout",
     "output_type": "stream",
     "text": [
      "Hari ini saya akan belajar mata kuliah Proses Stokastik\n"
     ]
    }
   ],
   "source": [
    "print(x.replace('Statistika Multivariat', 'Proses Stokastik'))"
   ]
  },
  {
   "cell_type": "code",
   "execution_count": null,
   "id": "3d471120",
   "metadata": {},
   "outputs": [],
   "source": []
  }
 ],
 "metadata": {
  "kernelspec": {
   "display_name": "Python 3",
   "language": "python",
   "name": "python3"
  },
  "language_info": {
   "codemirror_mode": {
    "name": "ipython",
    "version": 3
   },
   "file_extension": ".py",
   "mimetype": "text/x-python",
   "name": "python",
   "nbconvert_exporter": "python",
   "pygments_lexer": "ipython3",
   "version": "3.8.8"
  }
 },
 "nbformat": 4,
 "nbformat_minor": 5
}
