{
 "cells": [
  {
   "cell_type": "markdown",
   "id": "696912e5",
   "metadata": {},
   "source": [
    "# List\n",
    "\n",
    "List adalah jenis kumpulan data terurut dan merupakan salah satu variabel yang sering digunakan pada Python. Elemen List pada Python tidak harus memiliki tipe data yang sama. List dideklarasikan dengan kurung siku dan koma sebagai pemisah elemen."
   ]
  },
  {
   "cell_type": "code",
   "execution_count": 9,
   "id": "3852ec6e",
   "metadata": {},
   "outputs": [],
   "source": [
    "a = [5, 6.7, 'delapan']"
   ]
  },
  {
   "cell_type": "markdown",
   "id": "2a8fb45c",
   "metadata": {},
   "source": [
    "Data pada list dimulai pada index 0"
   ]
  },
  {
   "cell_type": "code",
   "execution_count": 8,
   "id": "78d94665",
   "metadata": {},
   "outputs": [
    {
     "data": {
      "text/plain": [
       "5"
      ]
     },
     "execution_count": 8,
     "metadata": {},
     "output_type": "execute_result"
    }
   ],
   "source": [
    "a[0]"
   ]
  },
  {
   "cell_type": "code",
   "execution_count": 9,
   "id": "55394ee9",
   "metadata": {},
   "outputs": [
    {
     "data": {
      "text/plain": [
       "6.7"
      ]
     },
     "execution_count": 9,
     "metadata": {},
     "output_type": "execute_result"
    }
   ],
   "source": [
    "a[1]"
   ]
  },
  {
   "cell_type": "code",
   "execution_count": 10,
   "id": "418ad9e9",
   "metadata": {},
   "outputs": [
    {
     "data": {
      "text/plain": [
       "'delapan'"
      ]
     },
     "execution_count": 10,
     "metadata": {},
     "output_type": "execute_result"
    }
   ],
   "source": [
    "a [2]"
   ]
  },
  {
   "cell_type": "code",
   "execution_count": 11,
   "id": "b2218db7",
   "metadata": {},
   "outputs": [
    {
     "data": {
      "text/plain": [
       "int"
      ]
     },
     "execution_count": 11,
     "metadata": {},
     "output_type": "execute_result"
    }
   ],
   "source": [
    "type(a[0])"
   ]
  },
  {
   "cell_type": "code",
   "execution_count": 12,
   "id": "07c6ac64",
   "metadata": {},
   "outputs": [
    {
     "data": {
      "text/plain": [
       "float"
      ]
     },
     "execution_count": 12,
     "metadata": {},
     "output_type": "execute_result"
    }
   ],
   "source": [
    "type(a[1])"
   ]
  },
  {
   "cell_type": "code",
   "execution_count": 20,
   "id": "b73aaefd",
   "metadata": {},
   "outputs": [
    {
     "data": {
      "text/plain": [
       "str"
      ]
     },
     "execution_count": 20,
     "metadata": {},
     "output_type": "execute_result"
    }
   ],
   "source": [
    "type(a[2])"
   ]
  },
  {
   "cell_type": "markdown",
   "id": "68cab269",
   "metadata": {},
   "source": [
    "Index -1: urutan pertama dibaca dari belakang"
   ]
  },
  {
   "cell_type": "code",
   "execution_count": 21,
   "id": "63d65930",
   "metadata": {},
   "outputs": [
    {
     "data": {
      "text/plain": [
       "'delapan'"
      ]
     },
     "execution_count": 21,
     "metadata": {},
     "output_type": "execute_result"
    }
   ],
   "source": [
    "a[-1]"
   ]
  },
  {
   "cell_type": "code",
   "execution_count": 10,
   "id": "9f3ad988",
   "metadata": {},
   "outputs": [
    {
     "data": {
      "text/plain": [
       "6.7"
      ]
     },
     "execution_count": 10,
     "metadata": {},
     "output_type": "execute_result"
    }
   ],
   "source": [
    "a[-2]"
   ]
  },
  {
   "cell_type": "code",
   "execution_count": 11,
   "id": "ab21a52c",
   "metadata": {},
   "outputs": [
    {
     "data": {
      "text/plain": [
       "[5, 6.7]"
      ]
     },
     "execution_count": 11,
     "metadata": {},
     "output_type": "execute_result"
    }
   ],
   "source": [
    "a[0:2]"
   ]
  },
  {
   "cell_type": "code",
   "execution_count": 13,
   "id": "71989f10",
   "metadata": {},
   "outputs": [
    {
     "data": {
      "text/plain": [
       "[5, 6.7, 'delapan']"
      ]
     },
     "execution_count": 13,
     "metadata": {},
     "output_type": "execute_result"
    }
   ],
   "source": [
    "a[0:3]"
   ]
  },
  {
   "cell_type": "code",
   "execution_count": 14,
   "id": "4761a58f",
   "metadata": {},
   "outputs": [
    {
     "data": {
      "text/plain": [
       "[5, 6.7, 'delapan']"
      ]
     },
     "execution_count": 14,
     "metadata": {},
     "output_type": "execute_result"
    }
   ],
   "source": [
    "a[0:4]"
   ]
  },
  {
   "cell_type": "code",
   "execution_count": 16,
   "id": "5c579989",
   "metadata": {},
   "outputs": [
    {
     "data": {
      "text/plain": [
       "[5, 6.7]"
      ]
     },
     "execution_count": 16,
     "metadata": {},
     "output_type": "execute_result"
    }
   ],
   "source": [
    "a[:2] #memanggil dari index pertama"
   ]
  },
  {
   "cell_type": "code",
   "execution_count": 18,
   "id": "63945afd",
   "metadata": {},
   "outputs": [
    {
     "data": {
      "text/plain": [
       "['delapan']"
      ]
     },
     "execution_count": 18,
     "metadata": {},
     "output_type": "execute_result"
    }
   ],
   "source": [
    "a[-1:]"
   ]
  },
  {
   "cell_type": "code",
   "execution_count": 20,
   "id": "64eb61b8",
   "metadata": {},
   "outputs": [
    {
     "data": {
      "text/plain": [
       "[6.7, 'delapan']"
      ]
     },
     "execution_count": 20,
     "metadata": {},
     "output_type": "execute_result"
    }
   ],
   "source": [
    "a[-2:]"
   ]
  },
  {
   "cell_type": "markdown",
   "id": "f7fe14d1",
   "metadata": {},
   "source": [
    "Task"
   ]
  },
  {
   "cell_type": "code",
   "execution_count": 1,
   "id": "d887353c",
   "metadata": {},
   "outputs": [],
   "source": [
    "x = [250, 8.7, \"MyEduSolve\", 'Data Science', False]"
   ]
  },
  {
   "cell_type": "code",
   "execution_count": 2,
   "id": "ee3913b5",
   "metadata": {},
   "outputs": [
    {
     "data": {
      "text/plain": [
       "[250, 8.7, 'MyEduSolve', 'Data Science', False]"
      ]
     },
     "execution_count": 2,
     "metadata": {},
     "output_type": "execute_result"
    }
   ],
   "source": [
    "x"
   ]
  },
  {
   "cell_type": "code",
   "execution_count": 3,
   "id": "5ca8fe31",
   "metadata": {},
   "outputs": [
    {
     "data": {
      "text/plain": [
       "'MyEduSolve'"
      ]
     },
     "execution_count": 3,
     "metadata": {},
     "output_type": "execute_result"
    }
   ],
   "source": [
    "x[2]"
   ]
  },
  {
   "cell_type": "code",
   "execution_count": 4,
   "id": "b42a5afc",
   "metadata": {},
   "outputs": [
    {
     "data": {
      "text/plain": [
       "'MyEduSolve'"
      ]
     },
     "execution_count": 4,
     "metadata": {},
     "output_type": "execute_result"
    }
   ],
   "source": [
    "x[-3]"
   ]
  },
  {
   "cell_type": "code",
   "execution_count": 5,
   "id": "babc5d1e",
   "metadata": {},
   "outputs": [
    {
     "data": {
      "text/plain": [
       "250"
      ]
     },
     "execution_count": 5,
     "metadata": {},
     "output_type": "execute_result"
    }
   ],
   "source": [
    "x[0]"
   ]
  },
  {
   "cell_type": "code",
   "execution_count": 6,
   "id": "9f8ff2b1",
   "metadata": {},
   "outputs": [
    {
     "data": {
      "text/plain": [
       "str"
      ]
     },
     "execution_count": 6,
     "metadata": {},
     "output_type": "execute_result"
    }
   ],
   "source": [
    "type(x[3])"
   ]
  },
  {
   "cell_type": "code",
   "execution_count": 7,
   "id": "db81e135",
   "metadata": {},
   "outputs": [
    {
     "name": "stdout",
     "output_type": "stream",
     "text": [
      "<class 'str'> <class 'str'> <class 'int'>\n"
     ]
    }
   ],
   "source": [
    "print(type(x[2]),\n",
    "     type(x[-2]),\n",
    "     type(x[0]))"
   ]
  },
  {
   "cell_type": "markdown",
   "id": "a02df8c5",
   "metadata": {},
   "source": [
    "# 20 09 2022"
   ]
  },
  {
   "cell_type": "code",
   "execution_count": 21,
   "id": "f24d40fe",
   "metadata": {},
   "outputs": [],
   "source": [
    "y = [1, 3.5, 5, 5.7, 7, 'DS', 'DA', 'DE', True, False]"
   ]
  },
  {
   "cell_type": "code",
   "execution_count": 22,
   "id": "fd6ccfc5",
   "metadata": {},
   "outputs": [
    {
     "data": {
      "text/plain": [
       "[1, 3.5, 5]"
      ]
     },
     "execution_count": 22,
     "metadata": {},
     "output_type": "execute_result"
    }
   ],
   "source": [
    "y[0:3]"
   ]
  },
  {
   "cell_type": "code",
   "execution_count": 23,
   "id": "a579b3c8",
   "metadata": {},
   "outputs": [
    {
     "data": {
      "text/plain": [
       "[7]"
      ]
     },
     "execution_count": 23,
     "metadata": {},
     "output_type": "execute_result"
    }
   ],
   "source": [
    "y[4:5]"
   ]
  },
  {
   "cell_type": "code",
   "execution_count": 24,
   "id": "d2a31f7a",
   "metadata": {},
   "outputs": [
    {
     "data": {
      "text/plain": [
       "[True, False]"
      ]
     },
     "execution_count": 24,
     "metadata": {},
     "output_type": "execute_result"
    }
   ],
   "source": [
    "y[8:]"
   ]
  },
  {
   "cell_type": "code",
   "execution_count": 26,
   "id": "5a734417",
   "metadata": {},
   "outputs": [
    {
     "data": {
      "text/plain": [
       "[1, 3.5, 5, 5.7, 7]"
      ]
     },
     "execution_count": 26,
     "metadata": {},
     "output_type": "execute_result"
    }
   ],
   "source": [
    "y[:-5]"
   ]
  },
  {
   "cell_type": "markdown",
   "id": "4148804d",
   "metadata": {},
   "source": [
    "Materi"
   ]
  },
  {
   "cell_type": "code",
   "execution_count": 28,
   "id": "1cbc9a79",
   "metadata": {},
   "outputs": [],
   "source": [
    "b = [6,7,8,9,10,11,12,13,14,15]"
   ]
  },
  {
   "cell_type": "code",
   "execution_count": 29,
   "id": "1de60e02",
   "metadata": {},
   "outputs": [
    {
     "data": {
      "text/plain": [
       "[6, 7, 8, 9, 10, 11, 12, 13]"
      ]
     },
     "execution_count": 29,
     "metadata": {},
     "output_type": "execute_result"
    }
   ],
   "source": [
    "b[0:8]"
   ]
  },
  {
   "cell_type": "code",
   "execution_count": 30,
   "id": "8876aeaa",
   "metadata": {},
   "outputs": [
    {
     "data": {
      "text/plain": [
       "[6, 8, 10, 12]"
      ]
     },
     "execution_count": 30,
     "metadata": {},
     "output_type": "execute_result"
    }
   ],
   "source": [
    "b[0:8:2]"
   ]
  },
  {
   "cell_type": "code",
   "execution_count": 31,
   "id": "268deabb",
   "metadata": {},
   "outputs": [
    {
     "data": {
      "text/plain": [
       "[6, 9, 12]"
      ]
     },
     "execution_count": 31,
     "metadata": {},
     "output_type": "execute_result"
    }
   ],
   "source": [
    "b[0:8:3]"
   ]
  },
  {
   "cell_type": "markdown",
   "id": "aec9cfc3",
   "metadata": {},
   "source": [
    "#### Elemen dalam list bisa diubah atau ditambahkan"
   ]
  },
  {
   "cell_type": "code",
   "execution_count": 42,
   "id": "476495da",
   "metadata": {},
   "outputs": [],
   "source": [
    "b = [6,7,8,9,10,11,12,13,14,15]"
   ]
  },
  {
   "cell_type": "code",
   "execution_count": 44,
   "id": "60d9bd14",
   "metadata": {},
   "outputs": [
    {
     "name": "stdout",
     "output_type": "stream",
     "text": [
      "[6, 7, 8, 9, 10, 11, 12, 13, 14, 15]\n"
     ]
    }
   ],
   "source": [
    "print(b)"
   ]
  },
  {
   "cell_type": "code",
   "execution_count": 45,
   "id": "8b497eb7",
   "metadata": {},
   "outputs": [
    {
     "data": {
      "text/plain": [
       "10"
      ]
     },
     "execution_count": 45,
     "metadata": {},
     "output_type": "execute_result"
    }
   ],
   "source": [
    "len(b)"
   ]
  },
  {
   "cell_type": "code",
   "execution_count": 46,
   "id": "40bc620a",
   "metadata": {},
   "outputs": [
    {
     "data": {
      "text/plain": [
       "15"
      ]
     },
     "execution_count": 46,
     "metadata": {},
     "output_type": "execute_result"
    }
   ],
   "source": [
    "b[9]"
   ]
  },
  {
   "cell_type": "code",
   "execution_count": 47,
   "id": "2856cc77",
   "metadata": {},
   "outputs": [],
   "source": [
    "b[0] = 1 #mengubah elemen"
   ]
  },
  {
   "cell_type": "code",
   "execution_count": 48,
   "id": "2ec42ddb",
   "metadata": {},
   "outputs": [
    {
     "name": "stdout",
     "output_type": "stream",
     "text": [
      "[1, 7, 8, 9, 10, 11, 12, 13, 14, 15]\n"
     ]
    }
   ],
   "source": [
    "print(b)"
   ]
  },
  {
   "cell_type": "code",
   "execution_count": 49,
   "id": "15c8e73a",
   "metadata": {},
   "outputs": [],
   "source": [
    "b.append(16) #menambahkan (default di akhir)"
   ]
  },
  {
   "cell_type": "code",
   "execution_count": 50,
   "id": "be9f1e38",
   "metadata": {},
   "outputs": [
    {
     "data": {
      "text/plain": [
       "11"
      ]
     },
     "execution_count": 50,
     "metadata": {},
     "output_type": "execute_result"
    }
   ],
   "source": [
    "len(b)"
   ]
  },
  {
   "cell_type": "code",
   "execution_count": 51,
   "id": "8b364227",
   "metadata": {},
   "outputs": [],
   "source": [
    "del b[0] #menghapus elemen"
   ]
  },
  {
   "cell_type": "code",
   "execution_count": 52,
   "id": "685e6d3b",
   "metadata": {},
   "outputs": [
    {
     "name": "stdout",
     "output_type": "stream",
     "text": [
      "[7, 8, 9, 10, 11, 12, 13, 14, 15, 16]\n"
     ]
    }
   ],
   "source": [
    "print(b)"
   ]
  },
  {
   "cell_type": "code",
   "execution_count": 53,
   "id": "463d5355",
   "metadata": {},
   "outputs": [
    {
     "data": {
      "text/plain": [
       "10"
      ]
     },
     "execution_count": 53,
     "metadata": {},
     "output_type": "execute_result"
    }
   ],
   "source": [
    "len(b)"
   ]
  },
  {
   "cell_type": "markdown",
   "id": "ea56e5ea",
   "metadata": {},
   "source": [
    "Task"
   ]
  },
  {
   "cell_type": "code",
   "execution_count": 58,
   "id": "38bc4866",
   "metadata": {},
   "outputs": [],
   "source": [
    "y = [1, 3.5, 5, 5.7, 7, 'DS', 'DA', 'DE', True, False]"
   ]
  },
  {
   "cell_type": "code",
   "execution_count": 59,
   "id": "a4e8f83c",
   "metadata": {},
   "outputs": [],
   "source": [
    "y[-2] = False"
   ]
  },
  {
   "cell_type": "code",
   "execution_count": 60,
   "id": "22b22e2e",
   "metadata": {},
   "outputs": [
    {
     "data": {
      "text/plain": [
       "[1, 3.5, 5, 5.7, 7, 'DS', 'DA', 'DE', False, False]"
      ]
     },
     "execution_count": 60,
     "metadata": {},
     "output_type": "execute_result"
    }
   ],
   "source": [
    "y"
   ]
  },
  {
   "cell_type": "code",
   "execution_count": 61,
   "id": "970bdfbe",
   "metadata": {},
   "outputs": [],
   "source": [
    "y.append(True)"
   ]
  },
  {
   "cell_type": "code",
   "execution_count": 62,
   "id": "47417f34",
   "metadata": {},
   "outputs": [
    {
     "data": {
      "text/plain": [
       "[1, 3.5, 5, 5.7, 7, 'DS', 'DA', 'DE', False, False, True]"
      ]
     },
     "execution_count": 62,
     "metadata": {},
     "output_type": "execute_result"
    }
   ],
   "source": [
    "y"
   ]
  },
  {
   "cell_type": "code",
   "execution_count": 63,
   "id": "49d77d1a",
   "metadata": {},
   "outputs": [],
   "source": [
    "del y[0]"
   ]
  },
  {
   "cell_type": "code",
   "execution_count": 64,
   "id": "549980df",
   "metadata": {},
   "outputs": [
    {
     "data": {
      "text/plain": [
       "[3.5, 5, 5.7, 7, 'DS', 'DA', 'DE', False, False, True]"
      ]
     },
     "execution_count": 64,
     "metadata": {},
     "output_type": "execute_result"
    }
   ],
   "source": [
    "y"
   ]
  },
  {
   "cell_type": "code",
   "execution_count": null,
   "id": "390cb829",
   "metadata": {},
   "outputs": [],
   "source": []
  }
 ],
 "metadata": {
  "kernelspec": {
   "display_name": "Python 3",
   "language": "python",
   "name": "python3"
  },
  "language_info": {
   "codemirror_mode": {
    "name": "ipython",
    "version": 3
   },
   "file_extension": ".py",
   "mimetype": "text/x-python",
   "name": "python",
   "nbconvert_exporter": "python",
   "pygments_lexer": "ipython3",
   "version": "3.8.8"
  }
 },
 "nbformat": 4,
 "nbformat_minor": 5
}
