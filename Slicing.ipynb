{
 "cells": [
  {
   "cell_type": "markdown",
   "id": "f2162abd",
   "metadata": {},
   "source": [
    "### Slicing pada String\n",
    "\n",
    "Karena string mirip dengan list, maka slicing operator [] juga dapat digunakan pada string untuk mengambil isinya atau bahkan substring. Sebuat string utuh bersifat mutable (bisa diubah), namun elemennya bersifat immutable (tidak bisa diubah)."
   ]
  },
  {
   "cell_type": "code",
   "execution_count": 1,
   "id": "c2629170",
   "metadata": {},
   "outputs": [],
   "source": [
    "a = 'Data Science'"
   ]
  },
  {
   "cell_type": "code",
   "execution_count": 2,
   "id": "9d259060",
   "metadata": {},
   "outputs": [
    {
     "name": "stdout",
     "output_type": "stream",
     "text": [
      "t\n"
     ]
    }
   ],
   "source": [
    "print(a[2]) # mengambil karakter ketiga dari string a"
   ]
  },
  {
   "cell_type": "code",
   "execution_count": 3,
   "id": "b392a7e3",
   "metadata": {},
   "outputs": [
    {
     "name": "stdout",
     "output_type": "stream",
     "text": [
      "Science\n"
     ]
    }
   ],
   "source": [
    "print(a[5:12]) #ambil karakter keenam hingga dua belas dari string a"
   ]
  },
  {
   "cell_type": "code",
   "execution_count": 4,
   "id": "1c5d0832",
   "metadata": {},
   "outputs": [
    {
     "ename": "TypeError",
     "evalue": "'str' object does not support item assignment",
     "output_type": "error",
     "traceback": [
      "\u001b[1;31m---------------------------------------------------------------------------\u001b[0m",
      "\u001b[1;31mTypeError\u001b[0m                                 Traceback (most recent call last)",
      "\u001b[1;32m<ipython-input-4-733063370d00>\u001b[0m in \u001b[0;36m<module>\u001b[1;34m\u001b[0m\n\u001b[1;32m----> 1\u001b[1;33m \u001b[0ma\u001b[0m\u001b[1;33m[\u001b[0m\u001b[1;36m5\u001b[0m\u001b[1;33m]\u001b[0m \u001b[1;33m=\u001b[0m \u001b[1;34m'o'\u001b[0m \u001b[1;31m#ubah karakter keempat dari string a menjadi o, seharusnya gagal karena imutable\u001b[0m\u001b[1;33m\u001b[0m\u001b[1;33m\u001b[0m\u001b[0m\n\u001b[0m",
      "\u001b[1;31mTypeError\u001b[0m: 'str' object does not support item assignment"
     ]
    }
   ],
   "source": [
    "a[5] = 'o' #ubah karakter keempat dari string a menjadi o, seharusnya gagal karena imutable"
   ]
  },
  {
   "cell_type": "code",
   "execution_count": 5,
   "id": "e17bcd7d",
   "metadata": {},
   "outputs": [
    {
     "name": "stdout",
     "output_type": "stream",
     "text": [
      "Data Science\n"
     ]
    }
   ],
   "source": [
    "print(a)"
   ]
  },
  {
   "cell_type": "markdown",
   "id": "b1b58ed8",
   "metadata": {},
   "source": [
    "Task"
   ]
  },
  {
   "cell_type": "code",
   "execution_count": 8,
   "id": "4f364c04",
   "metadata": {},
   "outputs": [
    {
     "name": "stdout",
     "output_type": "stream",
     "text": [
      "Saya belajar data science\n",
      "di MyEduSolve\n"
     ]
    }
   ],
   "source": [
    "# string\n",
    "\n",
    "x = 'Saya belajar data science\\ndi MyEduSolve'\n",
    "print(x)"
   ]
  },
  {
   "cell_type": "code",
   "execution_count": 9,
   "id": "78e179dd",
   "metadata": {},
   "outputs": [
    {
     "name": "stdout",
     "output_type": "stream",
     "text": [
      "c\n"
     ]
    }
   ],
   "source": [
    "# slicing 1p\n",
    "\n",
    "print(a[10])"
   ]
  },
  {
   "cell_type": "code",
   "execution_count": 10,
   "id": "8a33d7c2",
   "metadata": {},
   "outputs": [
    {
     "name": "stdout",
     "output_type": "stream",
     "text": [
      "ce\n"
     ]
    }
   ],
   "source": [
    "# slicing 2p\n",
    "\n",
    "print(a[10:])"
   ]
  },
  {
   "cell_type": "code",
   "execution_count": 11,
   "id": "c822dfbe",
   "metadata": {},
   "outputs": [
    {
     "name": "stdout",
     "output_type": "stream",
     "text": [
      "a ic\n"
     ]
    }
   ],
   "source": [
    "# slicing 3p\n",
    "\n",
    "print(a[1::3])"
   ]
  },
  {
   "cell_type": "code",
   "execution_count": 13,
   "id": "d4e1e245",
   "metadata": {},
   "outputs": [
    {
     "name": "stdout",
     "output_type": "stream",
     "text": [
      "Saya belajar data science\n",
      "bersama teman-teman\n"
     ]
    }
   ],
   "source": [
    "# mengubah \n",
    "\n",
    "a = 'Saya belajar data science\\nbersama teman-teman'\n",
    "print(a)"
   ]
  },
  {
   "cell_type": "code",
   "execution_count": null,
   "id": "5d2c0790",
   "metadata": {},
   "outputs": [],
   "source": []
  }
 ],
 "metadata": {
  "kernelspec": {
   "display_name": "Python 3",
   "language": "python",
   "name": "python3"
  },
  "language_info": {
   "codemirror_mode": {
    "name": "ipython",
    "version": 3
   },
   "file_extension": ".py",
   "mimetype": "text/x-python",
   "name": "python",
   "nbconvert_exporter": "python",
   "pygments_lexer": "ipython3",
   "version": "3.8.8"
  }
 },
 "nbformat": 4,
 "nbformat_minor": 5
}
